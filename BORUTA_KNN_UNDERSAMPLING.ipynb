{
  "cells": [
    {
      "cell_type": "markdown",
      "metadata": {
        "id": "view-in-github",
        "colab_type": "text"
      },
      "source": [
        "<a href=\"https://colab.research.google.com/github/SheetalData/Secom-Assignment/blob/main/BORUTA_KNN_UNDERSAMPLING.ipynb\" target=\"_parent\"><img src=\"https://colab.research.google.com/assets/colab-badge.svg\" alt=\"Open In Colab\"/></a>"
      ]
    },
    {
      "cell_type": "markdown",
      "source": [
        "# DATA IMPORTATION"
      ],
      "metadata": {
        "id": "_zn61Fk99KAc"
      }
    },
    {
      "cell_type": "code",
      "execution_count": 2,
      "metadata": {
        "colab": {
          "base_uri": "https://localhost:8080/",
          "height": 206
        },
        "id": "BnBVs-eBnsur",
        "outputId": "80e47e0f-4e22-416b-f5fc-c81b53561bce"
      },
      "outputs": [
        {
          "output_type": "execute_result",
          "data": {
            "text/plain": [
              "   Result                 Date\n",
              "0      -1  19/07/2008 11:55:00\n",
              "1      -1  19/07/2008 12:32:00\n",
              "2       1  19/07/2008 13:17:00\n",
              "3      -1  19/07/2008 14:43:00\n",
              "4      -1  19/07/2008 15:22:00"
            ],
            "text/html": [
              "\n",
              "  <div id=\"df-655d9490-5c34-4461-9e00-ff32d6e5578f\">\n",
              "    <div class=\"colab-df-container\">\n",
              "      <div>\n",
              "<style scoped>\n",
              "    .dataframe tbody tr th:only-of-type {\n",
              "        vertical-align: middle;\n",
              "    }\n",
              "\n",
              "    .dataframe tbody tr th {\n",
              "        vertical-align: top;\n",
              "    }\n",
              "\n",
              "    .dataframe thead th {\n",
              "        text-align: right;\n",
              "    }\n",
              "</style>\n",
              "<table border=\"1\" class=\"dataframe\">\n",
              "  <thead>\n",
              "    <tr style=\"text-align: right;\">\n",
              "      <th></th>\n",
              "      <th>Result</th>\n",
              "      <th>Date</th>\n",
              "    </tr>\n",
              "  </thead>\n",
              "  <tbody>\n",
              "    <tr>\n",
              "      <th>0</th>\n",
              "      <td>-1</td>\n",
              "      <td>19/07/2008 11:55:00</td>\n",
              "    </tr>\n",
              "    <tr>\n",
              "      <th>1</th>\n",
              "      <td>-1</td>\n",
              "      <td>19/07/2008 12:32:00</td>\n",
              "    </tr>\n",
              "    <tr>\n",
              "      <th>2</th>\n",
              "      <td>1</td>\n",
              "      <td>19/07/2008 13:17:00</td>\n",
              "    </tr>\n",
              "    <tr>\n",
              "      <th>3</th>\n",
              "      <td>-1</td>\n",
              "      <td>19/07/2008 14:43:00</td>\n",
              "    </tr>\n",
              "    <tr>\n",
              "      <th>4</th>\n",
              "      <td>-1</td>\n",
              "      <td>19/07/2008 15:22:00</td>\n",
              "    </tr>\n",
              "  </tbody>\n",
              "</table>\n",
              "</div>\n",
              "      <button class=\"colab-df-convert\" onclick=\"convertToInteractive('df-655d9490-5c34-4461-9e00-ff32d6e5578f')\"\n",
              "              title=\"Convert this dataframe to an interactive table.\"\n",
              "              style=\"display:none;\">\n",
              "        \n",
              "  <svg xmlns=\"http://www.w3.org/2000/svg\" height=\"24px\"viewBox=\"0 0 24 24\"\n",
              "       width=\"24px\">\n",
              "    <path d=\"M0 0h24v24H0V0z\" fill=\"none\"/>\n",
              "    <path d=\"M18.56 5.44l.94 2.06.94-2.06 2.06-.94-2.06-.94-.94-2.06-.94 2.06-2.06.94zm-11 1L8.5 8.5l.94-2.06 2.06-.94-2.06-.94L8.5 2.5l-.94 2.06-2.06.94zm10 10l.94 2.06.94-2.06 2.06-.94-2.06-.94-.94-2.06-.94 2.06-2.06.94z\"/><path d=\"M17.41 7.96l-1.37-1.37c-.4-.4-.92-.59-1.43-.59-.52 0-1.04.2-1.43.59L10.3 9.45l-7.72 7.72c-.78.78-.78 2.05 0 2.83L4 21.41c.39.39.9.59 1.41.59.51 0 1.02-.2 1.41-.59l7.78-7.78 2.81-2.81c.8-.78.8-2.07 0-2.86zM5.41 20L4 18.59l7.72-7.72 1.47 1.35L5.41 20z\"/>\n",
              "  </svg>\n",
              "      </button>\n",
              "      \n",
              "  <style>\n",
              "    .colab-df-container {\n",
              "      display:flex;\n",
              "      flex-wrap:wrap;\n",
              "      gap: 12px;\n",
              "    }\n",
              "\n",
              "    .colab-df-convert {\n",
              "      background-color: #E8F0FE;\n",
              "      border: none;\n",
              "      border-radius: 50%;\n",
              "      cursor: pointer;\n",
              "      display: none;\n",
              "      fill: #1967D2;\n",
              "      height: 32px;\n",
              "      padding: 0 0 0 0;\n",
              "      width: 32px;\n",
              "    }\n",
              "\n",
              "    .colab-df-convert:hover {\n",
              "      background-color: #E2EBFA;\n",
              "      box-shadow: 0px 1px 2px rgba(60, 64, 67, 0.3), 0px 1px 3px 1px rgba(60, 64, 67, 0.15);\n",
              "      fill: #174EA6;\n",
              "    }\n",
              "\n",
              "    [theme=dark] .colab-df-convert {\n",
              "      background-color: #3B4455;\n",
              "      fill: #D2E3FC;\n",
              "    }\n",
              "\n",
              "    [theme=dark] .colab-df-convert:hover {\n",
              "      background-color: #434B5C;\n",
              "      box-shadow: 0px 1px 3px 1px rgba(0, 0, 0, 0.15);\n",
              "      filter: drop-shadow(0px 1px 2px rgba(0, 0, 0, 0.3));\n",
              "      fill: #FFFFFF;\n",
              "    }\n",
              "  </style>\n",
              "\n",
              "      <script>\n",
              "        const buttonEl =\n",
              "          document.querySelector('#df-655d9490-5c34-4461-9e00-ff32d6e5578f button.colab-df-convert');\n",
              "        buttonEl.style.display =\n",
              "          google.colab.kernel.accessAllowed ? 'block' : 'none';\n",
              "\n",
              "        async function convertToInteractive(key) {\n",
              "          const element = document.querySelector('#df-655d9490-5c34-4461-9e00-ff32d6e5578f');\n",
              "          const dataTable =\n",
              "            await google.colab.kernel.invokeFunction('convertToInteractive',\n",
              "                                                     [key], {});\n",
              "          if (!dataTable) return;\n",
              "\n",
              "          const docLinkHtml = 'Like what you see? Visit the ' +\n",
              "            '<a target=\"_blank\" href=https://colab.research.google.com/notebooks/data_table.ipynb>data table notebook</a>'\n",
              "            + ' to learn more about interactive tables.';\n",
              "          element.innerHTML = '';\n",
              "          dataTable['output_type'] = 'display_data';\n",
              "          await google.colab.output.renderOutput(dataTable, element);\n",
              "          const docLink = document.createElement('div');\n",
              "          docLink.innerHTML = docLinkHtml;\n",
              "          element.appendChild(docLink);\n",
              "        }\n",
              "      </script>\n",
              "    </div>\n",
              "  </div>\n",
              "  "
            ]
          },
          "metadata": {},
          "execution_count": 2
        }
      ],
      "source": [
        "import pandas as pd\n",
        "import numpy as np\n",
        "import matplotlib.pyplot as plt\n",
        "%matplotlib inline\n",
        "from collections import Counter\n",
        "import seaborn as sns\n",
        "import warnings\n",
        "warnings.filterwarnings(\"ignore\")\n",
        "from sklearn import model_selection\n",
        "from sklearn.model_selection import train_test_split\n",
        "from scipy.stats import shapiro\n",
        "# imputer\n",
        "from sklearn.impute import SimpleImputer, KNNImputer\n",
        "\n",
        "\n",
        "url1 ='https://archive.ics.uci.edu/ml/machine-learning-databases/secom/secom.data'\n",
        "names = [\"feature\" + str(x) for x in range(1, 591)]\n",
        "df1 = pd.read_csv(url1,sep=\" \", names=names, na_values = \"NaN\",header=None)\n",
        "df1.head()\n",
        "\n",
        "url2 ='https://archive.ics.uci.edu/ml/machine-learning-databases/secom/secom_labels.data'\n",
        "df2 = pd.read_csv(url2,sep=\" \",names = [\"Result\",\"Date\"])\n",
        "\n",
        "#df2.columns =['Pass/Fail','Date']\n",
        "df2.head()\n"
      ]
    },
    {
      "cell_type": "code",
      "execution_count": 3,
      "metadata": {
        "colab": {
          "base_uri": "https://localhost:8080/"
        },
        "id": "mD9XpODRn1G4",
        "outputId": "1056a70d-9e20-46db-b5de-7d5c93349d66"
      },
      "outputs": [
        {
          "output_type": "stream",
          "name": "stdout",
          "text": [
            "      feature1  feature2   feature3   feature4  feature5  feature6  feature7  \\\n",
            "0      3030.93   2564.00  2187.7333  1411.1265    1.3602     100.0   97.6133   \n",
            "1      3095.78   2465.14  2230.4222  1463.6606    0.8294     100.0  102.3433   \n",
            "2      2932.61   2559.94  2186.4111  1698.0172    1.5102     100.0   95.4878   \n",
            "3      2988.72   2479.90  2199.0333   909.7926    1.3204     100.0  104.2367   \n",
            "4      3032.24   2502.87  2233.3667  1326.5200    1.5334     100.0  100.3967   \n",
            "...        ...       ...        ...        ...       ...       ...       ...   \n",
            "1562   2899.41   2464.36  2179.7333  3085.3781    1.4843     100.0   82.2467   \n",
            "1563   3052.31   2522.55  2198.5667  1124.6595    0.8763     100.0   98.4689   \n",
            "1564   2978.81   2379.78  2206.3000  1110.4967    0.8236     100.0   99.4122   \n",
            "1565   2894.92   2532.01  2177.0333  1183.7287    1.5726     100.0   98.7978   \n",
            "1566   2944.92   2450.76  2195.4444  2914.1792    1.5978     100.0   85.1011   \n",
            "\n",
            "      feature8  feature9  feature10  ...  feature583  feature584  feature585  \\\n",
            "0       0.1242    1.5005     0.0162  ...      0.5005      0.0118      0.0035   \n",
            "1       0.1247    1.4966    -0.0005  ...      0.5019      0.0223      0.0055   \n",
            "2       0.1241    1.4436     0.0041  ...      0.4958      0.0157      0.0039   \n",
            "3       0.1217    1.4882    -0.0124  ...      0.4990      0.0103      0.0025   \n",
            "4       0.1235    1.5031    -0.0031  ...      0.4800      0.4766      0.1045   \n",
            "...        ...       ...        ...  ...         ...         ...         ...   \n",
            "1562    0.1248    1.3424    -0.0045  ...      0.4988      0.0143      0.0039   \n",
            "1563    0.1205    1.4333    -0.0061  ...      0.4975      0.0131      0.0036   \n",
            "1564    0.1208       NaN        NaN  ...      0.4987      0.0153      0.0041   \n",
            "1565    0.1213    1.4622    -0.0072  ...      0.5004      0.0178      0.0038   \n",
            "1566    0.1235       NaN        NaN  ...      0.4987      0.0181      0.0040   \n",
            "\n",
            "      feature586  feature587  feature588  feature589  feature590  Result  \\\n",
            "0         2.3630         NaN         NaN         NaN         NaN      -1   \n",
            "1         4.4447      0.0096      0.0201      0.0060    208.2045      -1   \n",
            "2         3.1745      0.0584      0.0484      0.0148     82.8602       1   \n",
            "3         2.0544      0.0202      0.0149      0.0044     73.8432      -1   \n",
            "4        99.3032      0.0202      0.0149      0.0044     73.8432      -1   \n",
            "...          ...         ...         ...         ...         ...     ...   \n",
            "1562      2.8669      0.0068      0.0138      0.0047    203.1720      -1   \n",
            "1563      2.6238      0.0068      0.0138      0.0047    203.1720      -1   \n",
            "1564      3.0590      0.0197      0.0086      0.0025     43.5231      -1   \n",
            "1565      3.5662      0.0262      0.0245      0.0075     93.4941      -1   \n",
            "1566      3.6275      0.0117      0.0162      0.0045    137.7844      -1   \n",
            "\n",
            "                    Date  \n",
            "0    2008-07-19 11:55:00  \n",
            "1    2008-07-19 12:32:00  \n",
            "2    2008-07-19 13:17:00  \n",
            "3    2008-07-19 14:43:00  \n",
            "4    2008-07-19 15:22:00  \n",
            "...                  ...  \n",
            "1562 2008-10-16 15:13:00  \n",
            "1563 2008-10-16 20:49:00  \n",
            "1564 2008-10-17 05:26:00  \n",
            "1565 2008-10-17 06:01:00  \n",
            "1566 2008-10-17 06:07:00  \n",
            "\n",
            "[1567 rows x 592 columns]\n",
            "shape of x: (1567, 590)\n",
            "shape of y: (1567, 1)\n"
          ]
        }
      ],
      "source": [
        "#Convertion of Date into Datetime from Object(String) data types\n",
        "df2['Date'] = pd.to_datetime(df2['Date'])\n",
        "df2.dtypes\n",
        "\n",
        "\n",
        "#Joinig TWO df1 and df2 Dataframe naming SECOM\n",
        "Secom = pd.concat([df1,df2],axis = 1)\n",
        "print(Secom)\n",
        "\n",
        "Secom = Secom.drop(['Date'],axis=1)\n",
        "                   \n",
        "# establish target and features of the manufacturing data\n",
        "# set the target to the encoded manufacturing outcome column\n",
        "y = Secom[['Result']]\n",
        "# set the features as the rest of the dataset after dropping the features that are no\n",
        "x = Secom.drop(['Result'], axis=1)\n",
        "\n",
        "# getting the shapes of new data sets x and y\n",
        "print(\"shape of x:\", x.shape)\n",
        "print(\"shape of y:\", y.shape)\n"
      ]
    },
    {
      "cell_type": "markdown",
      "source": [
        "# DATA SPLITTING"
      ],
      "metadata": {
        "id": "a6r1dJMk9PvU"
      }
    },
    {
      "cell_type": "code",
      "execution_count": 4,
      "metadata": {
        "colab": {
          "base_uri": "https://localhost:8080/"
        },
        "id": "iSD-v3ZAn5E9",
        "outputId": "848423c2-a82f-41eb-802d-5515cf3fa71a"
      },
      "outputs": [
        {
          "output_type": "stream",
          "name": "stdout",
          "text": [
            "shape of x_train:  (1096, 590)\n",
            "shape of x_test:  (471, 590)\n",
            "shape of y_train:  (1096, 1)\n",
            "shape of y_test:  (471, 1)\n"
          ]
        },
        {
          "output_type": "execute_result",
          "data": {
            "text/plain": [
              "(1096, 566)"
            ]
          },
          "metadata": {},
          "execution_count": 4
        }
      ],
      "source": [
        "#Splitting data\n",
        "\n",
        "x_train, x_test, y_train, y_test = train_test_split(x, y, test_size = 0.3, random_state = 1,stratify = y)\n",
        "\n",
        "\n",
        "# getting the counts\n",
        "print(\"shape of x_train: \", x_train.shape)\n",
        "print(\"shape of x_test: \", x_test.shape)\n",
        "print(\"shape of y_train: \", y_train.shape)\n",
        "print(\"shape of y_test: \", y_test.shape)\n",
        "\n",
        "\n",
        "#Removing features having Missing ratio more than 50%\n",
        "\n",
        "\n",
        "def percentna(dataframe, threshold):\n",
        "    columns = dataframe.columns[(dataframe.isnull().sum()/len(dataframe))>threshold]\n",
        "    return columns.tolist()\n",
        "\n",
        " \n",
        "\n",
        "na_columns = percentna(x_train, 0.5)\n",
        "len(na_columns)\n",
        "x_train_dn = x_train.drop(na_columns, axis=1)\n",
        "x_train_dn.shape\n"
      ]
    },
    {
      "cell_type": "code",
      "source": [
        ""
      ],
      "metadata": {
        "id": "uO-N1F_Cc_yt"
      },
      "execution_count": 4,
      "outputs": []
    },
    {
      "cell_type": "code",
      "execution_count": 5,
      "metadata": {
        "colab": {
          "base_uri": "https://localhost:8080/"
        },
        "id": "7wD-uPTYn8ru",
        "outputId": "b3dd1349-ef43-47f7-d3b2-530c48399a82"
      },
      "outputs": [
        {
          "output_type": "stream",
          "name": "stdout",
          "text": [
            "116\n"
          ]
        }
      ],
      "source": [
        "#Low Variance Filter\n",
        "from sklearn.feature_selection import VarianceThreshold\n",
        "var_thres=VarianceThreshold(threshold=0)\n",
        "var_thres.fit(x_train_dn)\n",
        "\n",
        " \n",
        "\n",
        "constant_columns = [column for column in x_train_dn.columns\n",
        "                    if column not in x_train_dn.columns[var_thres.get_support()]]\n",
        "\n",
        "\n",
        "print(len(constant_columns))\n",
        "\n",
        "x_train_lv = x_train_dn.drop(constant_columns,axis=1)"
      ]
    },
    {
      "cell_type": "code",
      "execution_count": 6,
      "metadata": {
        "id": "FAsPqNca144T"
      },
      "outputs": [],
      "source": [
        "x_test_drop = x_test.copy()\n",
        "\n",
        "x_test_drop = x_test_drop.drop(na_columns, axis=1)\n",
        "\n",
        "x_test_drop = x_test_drop.drop(constant_columns,axis=1)"
      ]
    },
    {
      "cell_type": "code",
      "execution_count": 7,
      "metadata": {
        "id": "Sv9sVd9Wn-9o"
      },
      "outputs": [],
      "source": [
        "def outliers(feat):\n",
        " upper_limit = feat.mean() + 3*feat.std()\n",
        " lower_limit = feat.mean() - 3*feat.std()\n",
        "\n",
        " feat = np.where(\n",
        "    feat >upper_limit,\n",
        "    upper_limit,\n",
        "    np.where(\n",
        "       feat <lower_limit,\n",
        "        lower_limit,\n",
        "        feat ))\n",
        " return feat\n",
        "\n",
        "x_train_outliers_imputation =x_train_lv.copy()\n",
        "for column in x_train_outliers_imputation:\n",
        "  x_train_outliers_imputation[column] = outliers(x_train_outliers_imputation[column])"
      ]
    },
    {
      "cell_type": "code",
      "execution_count": 8,
      "metadata": {
        "id": "AiyPRb-zoDbd"
      },
      "outputs": [],
      "source": [
        "numColumns = x_train_outliers_imputation.select_dtypes(include=np.number).columns.tolist();\n",
        "# initialize imputer\n",
        "imputer = KNNImputer()\n",
        "\n",
        "# fit the imputer on X_train. pass only numeric columns.\n",
        "imputer.fit(x_train_outliers_imputation[numColumns])\n",
        "\n",
        "# transform the data using the fitted imputer\n",
        "X_train_knn_impute1 = imputer.transform(x_train_outliers_imputation[numColumns])\n",
        "X_test_knn_impute1 = imputer.transform(x_test[numColumns])\n",
        "\n",
        "# put the output into DataFrame. remember to pass columns used in fit/transform\n",
        "X_train_knn_impute1 = pd.DataFrame(X_train_knn_impute1, columns=numColumns)\n",
        "\n",
        "X_test_knn_impute1 = pd.DataFrame(X_test_knn_impute1, columns=numColumns)"
      ]
    },
    {
      "cell_type": "code",
      "source": [
        "numColumns1 = y_train.select_dtypes(include=np.number).columns.tolist();"
      ],
      "metadata": {
        "id": "S5bu1HtId3zL"
      },
      "execution_count": 9,
      "outputs": []
    },
    {
      "cell_type": "code",
      "source": [
        "imputer.fit(y_train[numColumns1])\n",
        "y_train_1 = imputer.transform(y_train[numColumns1])"
      ],
      "metadata": {
        "id": "MpeAzilCdX2g"
      },
      "execution_count": 10,
      "outputs": []
    },
    {
      "cell_type": "code",
      "source": [
        "y_train_1 = pd.DataFrame(y_train_1, columns=numColumns1)"
      ],
      "metadata": {
        "id": "5ed9_5Begoy4"
      },
      "execution_count": 11,
      "outputs": []
    },
    {
      "cell_type": "code",
      "source": [
        "pip install boruta"
      ],
      "metadata": {
        "colab": {
          "base_uri": "https://localhost:8080/"
        },
        "id": "JpYd8kCcUqnQ",
        "outputId": "b3cc562e-d4d4-4e2c-acb3-c4ec7b8ada0a"
      },
      "execution_count": 12,
      "outputs": [
        {
          "output_type": "stream",
          "name": "stdout",
          "text": [
            "Looking in indexes: https://pypi.org/simple, https://us-python.pkg.dev/colab-wheels/public/simple/\n",
            "Collecting boruta\n",
            "  Downloading Boruta-0.3-py3-none-any.whl (56 kB)\n",
            "\u001b[K     |████████████████████████████████| 56 kB 3.0 MB/s \n",
            "\u001b[?25hRequirement already satisfied: scikit-learn>=0.17.1 in /usr/local/lib/python3.7/dist-packages (from boruta) (1.0.2)\n",
            "Requirement already satisfied: numpy>=1.10.4 in /usr/local/lib/python3.7/dist-packages (from boruta) (1.21.6)\n",
            "Requirement already satisfied: scipy>=0.17.0 in /usr/local/lib/python3.7/dist-packages (from boruta) (1.4.1)\n",
            "Requirement already satisfied: threadpoolctl>=2.0.0 in /usr/local/lib/python3.7/dist-packages (from scikit-learn>=0.17.1->boruta) (3.1.0)\n",
            "Requirement already satisfied: joblib>=0.11 in /usr/local/lib/python3.7/dist-packages (from scikit-learn>=0.17.1->boruta) (1.1.0)\n",
            "Installing collected packages: boruta\n",
            "Successfully installed boruta-0.3\n"
          ]
        }
      ]
    },
    {
      "cell_type": "code",
      "execution_count": 13,
      "metadata": {
        "id": "EV8hqsdx4Cdn"
      },
      "outputs": [],
      "source": [
        "from boruta import BorutaPy"
      ]
    },
    {
      "cell_type": "code",
      "execution_count": 14,
      "metadata": {
        "colab": {
          "base_uri": "https://localhost:8080/"
        },
        "id": "a2imlaaq3yNl",
        "outputId": "3f753693-762e-4bb0-e685-f4216f8781c0"
      },
      "outputs": [
        {
          "output_type": "stream",
          "name": "stdout",
          "text": [
            "Iteration: \t1 / 100\n",
            "Confirmed: \t0\n",
            "Tentative: \t450\n",
            "Rejected: \t0\n",
            "Iteration: \t2 / 100\n",
            "Confirmed: \t0\n",
            "Tentative: \t450\n",
            "Rejected: \t0\n",
            "Iteration: \t3 / 100\n",
            "Confirmed: \t0\n",
            "Tentative: \t450\n",
            "Rejected: \t0\n",
            "Iteration: \t4 / 100\n",
            "Confirmed: \t0\n",
            "Tentative: \t450\n",
            "Rejected: \t0\n",
            "Iteration: \t5 / 100\n",
            "Confirmed: \t0\n",
            "Tentative: \t450\n",
            "Rejected: \t0\n",
            "Iteration: \t6 / 100\n",
            "Confirmed: \t0\n",
            "Tentative: \t450\n",
            "Rejected: \t0\n",
            "Iteration: \t7 / 100\n",
            "Confirmed: \t0\n",
            "Tentative: \t450\n",
            "Rejected: \t0\n",
            "Iteration: \t8 / 100\n",
            "Confirmed: \t0\n",
            "Tentative: \t19\n",
            "Rejected: \t431\n",
            "Iteration: \t9 / 100\n",
            "Confirmed: \t0\n",
            "Tentative: \t19\n",
            "Rejected: \t431\n",
            "Iteration: \t10 / 100\n",
            "Confirmed: \t0\n",
            "Tentative: \t19\n",
            "Rejected: \t431\n",
            "Iteration: \t11 / 100\n",
            "Confirmed: \t0\n",
            "Tentative: \t19\n",
            "Rejected: \t431\n",
            "Iteration: \t12 / 100\n",
            "Confirmed: \t2\n",
            "Tentative: \t15\n",
            "Rejected: \t433\n",
            "Iteration: \t13 / 100\n",
            "Confirmed: \t2\n",
            "Tentative: \t15\n",
            "Rejected: \t433\n",
            "Iteration: \t14 / 100\n",
            "Confirmed: \t2\n",
            "Tentative: \t15\n",
            "Rejected: \t433\n",
            "Iteration: \t15 / 100\n",
            "Confirmed: \t2\n",
            "Tentative: \t15\n",
            "Rejected: \t433\n",
            "Iteration: \t16 / 100\n",
            "Confirmed: \t4\n",
            "Tentative: \t11\n",
            "Rejected: \t435\n",
            "Iteration: \t17 / 100\n",
            "Confirmed: \t4\n",
            "Tentative: \t11\n",
            "Rejected: \t435\n",
            "Iteration: \t18 / 100\n",
            "Confirmed: \t4\n",
            "Tentative: \t11\n",
            "Rejected: \t435\n",
            "Iteration: \t19 / 100\n",
            "Confirmed: \t4\n",
            "Tentative: \t11\n",
            "Rejected: \t435\n",
            "Iteration: \t20 / 100\n",
            "Confirmed: \t4\n",
            "Tentative: \t11\n",
            "Rejected: \t435\n",
            "Iteration: \t21 / 100\n",
            "Confirmed: \t4\n",
            "Tentative: \t11\n",
            "Rejected: \t435\n",
            "Iteration: \t22 / 100\n",
            "Confirmed: \t7\n",
            "Tentative: \t8\n",
            "Rejected: \t435\n",
            "Iteration: \t23 / 100\n",
            "Confirmed: \t7\n",
            "Tentative: \t8\n",
            "Rejected: \t435\n",
            "Iteration: \t24 / 100\n",
            "Confirmed: \t7\n",
            "Tentative: \t8\n",
            "Rejected: \t435\n",
            "Iteration: \t25 / 100\n",
            "Confirmed: \t7\n",
            "Tentative: \t8\n",
            "Rejected: \t435\n",
            "Iteration: \t26 / 100\n",
            "Confirmed: \t7\n",
            "Tentative: \t8\n",
            "Rejected: \t435\n",
            "Iteration: \t27 / 100\n",
            "Confirmed: \t7\n",
            "Tentative: \t8\n",
            "Rejected: \t435\n",
            "Iteration: \t28 / 100\n",
            "Confirmed: \t7\n",
            "Tentative: \t8\n",
            "Rejected: \t435\n",
            "Iteration: \t29 / 100\n",
            "Confirmed: \t7\n",
            "Tentative: \t8\n",
            "Rejected: \t435\n",
            "Iteration: \t30 / 100\n",
            "Confirmed: \t7\n",
            "Tentative: \t8\n",
            "Rejected: \t435\n",
            "Iteration: \t31 / 100\n",
            "Confirmed: \t7\n",
            "Tentative: \t8\n",
            "Rejected: \t435\n",
            "Iteration: \t32 / 100\n",
            "Confirmed: \t7\n",
            "Tentative: \t8\n",
            "Rejected: \t435\n",
            "Iteration: \t33 / 100\n",
            "Confirmed: \t7\n",
            "Tentative: \t8\n",
            "Rejected: \t435\n",
            "Iteration: \t34 / 100\n",
            "Confirmed: \t7\n",
            "Tentative: \t8\n",
            "Rejected: \t435\n",
            "Iteration: \t35 / 100\n",
            "Confirmed: \t7\n",
            "Tentative: \t8\n",
            "Rejected: \t435\n",
            "Iteration: \t36 / 100\n",
            "Confirmed: \t7\n",
            "Tentative: \t8\n",
            "Rejected: \t435\n",
            "Iteration: \t37 / 100\n",
            "Confirmed: \t8\n",
            "Tentative: \t7\n",
            "Rejected: \t435\n",
            "Iteration: \t38 / 100\n",
            "Confirmed: \t8\n",
            "Tentative: \t7\n",
            "Rejected: \t435\n",
            "Iteration: \t39 / 100\n",
            "Confirmed: \t8\n",
            "Tentative: \t7\n",
            "Rejected: \t435\n",
            "Iteration: \t40 / 100\n",
            "Confirmed: \t8\n",
            "Tentative: \t7\n",
            "Rejected: \t435\n",
            "Iteration: \t41 / 100\n",
            "Confirmed: \t8\n",
            "Tentative: \t7\n",
            "Rejected: \t435\n",
            "Iteration: \t42 / 100\n",
            "Confirmed: \t8\n",
            "Tentative: \t7\n",
            "Rejected: \t435\n",
            "Iteration: \t43 / 100\n",
            "Confirmed: \t10\n",
            "Tentative: \t5\n",
            "Rejected: \t435\n",
            "Iteration: \t44 / 100\n",
            "Confirmed: \t10\n",
            "Tentative: \t5\n",
            "Rejected: \t435\n",
            "Iteration: \t45 / 100\n",
            "Confirmed: \t10\n",
            "Tentative: \t5\n",
            "Rejected: \t435\n",
            "Iteration: \t46 / 100\n",
            "Confirmed: \t10\n",
            "Tentative: \t5\n",
            "Rejected: \t435\n",
            "Iteration: \t47 / 100\n",
            "Confirmed: \t10\n",
            "Tentative: \t5\n",
            "Rejected: \t435\n",
            "Iteration: \t48 / 100\n",
            "Confirmed: \t10\n",
            "Tentative: \t5\n",
            "Rejected: \t435\n",
            "Iteration: \t49 / 100\n",
            "Confirmed: \t10\n",
            "Tentative: \t5\n",
            "Rejected: \t435\n",
            "Iteration: \t50 / 100\n",
            "Confirmed: \t10\n",
            "Tentative: \t5\n",
            "Rejected: \t435\n",
            "Iteration: \t51 / 100\n",
            "Confirmed: \t10\n",
            "Tentative: \t5\n",
            "Rejected: \t435\n",
            "Iteration: \t52 / 100\n",
            "Confirmed: \t10\n",
            "Tentative: \t5\n",
            "Rejected: \t435\n",
            "Iteration: \t53 / 100\n",
            "Confirmed: \t10\n",
            "Tentative: \t5\n",
            "Rejected: \t435\n",
            "Iteration: \t54 / 100\n",
            "Confirmed: \t10\n",
            "Tentative: \t5\n",
            "Rejected: \t435\n",
            "Iteration: \t55 / 100\n",
            "Confirmed: \t10\n",
            "Tentative: \t5\n",
            "Rejected: \t435\n",
            "Iteration: \t56 / 100\n",
            "Confirmed: \t10\n",
            "Tentative: \t5\n",
            "Rejected: \t435\n",
            "Iteration: \t57 / 100\n",
            "Confirmed: \t10\n",
            "Tentative: \t5\n",
            "Rejected: \t435\n",
            "Iteration: \t58 / 100\n",
            "Confirmed: \t10\n",
            "Tentative: \t5\n",
            "Rejected: \t435\n",
            "Iteration: \t59 / 100\n",
            "Confirmed: \t10\n",
            "Tentative: \t5\n",
            "Rejected: \t435\n",
            "Iteration: \t60 / 100\n",
            "Confirmed: \t10\n",
            "Tentative: \t5\n",
            "Rejected: \t435\n",
            "Iteration: \t61 / 100\n",
            "Confirmed: \t10\n",
            "Tentative: \t5\n",
            "Rejected: \t435\n",
            "Iteration: \t62 / 100\n",
            "Confirmed: \t11\n",
            "Tentative: \t4\n",
            "Rejected: \t435\n",
            "Iteration: \t63 / 100\n",
            "Confirmed: \t11\n",
            "Tentative: \t4\n",
            "Rejected: \t435\n",
            "Iteration: \t64 / 100\n",
            "Confirmed: \t11\n",
            "Tentative: \t4\n",
            "Rejected: \t435\n",
            "Iteration: \t65 / 100\n",
            "Confirmed: \t11\n",
            "Tentative: \t4\n",
            "Rejected: \t435\n",
            "Iteration: \t66 / 100\n",
            "Confirmed: \t11\n",
            "Tentative: \t4\n",
            "Rejected: \t435\n",
            "Iteration: \t67 / 100\n",
            "Confirmed: \t11\n",
            "Tentative: \t4\n",
            "Rejected: \t435\n",
            "Iteration: \t68 / 100\n",
            "Confirmed: \t11\n",
            "Tentative: \t4\n",
            "Rejected: \t435\n",
            "Iteration: \t69 / 100\n",
            "Confirmed: \t11\n",
            "Tentative: \t4\n",
            "Rejected: \t435\n",
            "Iteration: \t70 / 100\n",
            "Confirmed: \t11\n",
            "Tentative: \t4\n",
            "Rejected: \t435\n",
            "Iteration: \t71 / 100\n",
            "Confirmed: \t11\n",
            "Tentative: \t4\n",
            "Rejected: \t435\n",
            "Iteration: \t72 / 100\n",
            "Confirmed: \t12\n",
            "Tentative: \t3\n",
            "Rejected: \t435\n",
            "Iteration: \t73 / 100\n",
            "Confirmed: \t12\n",
            "Tentative: \t3\n",
            "Rejected: \t435\n",
            "Iteration: \t74 / 100\n",
            "Confirmed: \t12\n",
            "Tentative: \t3\n",
            "Rejected: \t435\n",
            "Iteration: \t75 / 100\n",
            "Confirmed: \t12\n",
            "Tentative: \t3\n",
            "Rejected: \t435\n",
            "Iteration: \t76 / 100\n",
            "Confirmed: \t12\n",
            "Tentative: \t3\n",
            "Rejected: \t435\n",
            "Iteration: \t77 / 100\n",
            "Confirmed: \t12\n",
            "Tentative: \t3\n",
            "Rejected: \t435\n",
            "Iteration: \t78 / 100\n",
            "Confirmed: \t12\n",
            "Tentative: \t3\n",
            "Rejected: \t435\n",
            "Iteration: \t79 / 100\n",
            "Confirmed: \t12\n",
            "Tentative: \t3\n",
            "Rejected: \t435\n",
            "Iteration: \t80 / 100\n",
            "Confirmed: \t12\n",
            "Tentative: \t3\n",
            "Rejected: \t435\n",
            "Iteration: \t81 / 100\n",
            "Confirmed: \t12\n",
            "Tentative: \t3\n",
            "Rejected: \t435\n",
            "Iteration: \t82 / 100\n",
            "Confirmed: \t12\n",
            "Tentative: \t3\n",
            "Rejected: \t435\n",
            "Iteration: \t83 / 100\n",
            "Confirmed: \t13\n",
            "Tentative: \t2\n",
            "Rejected: \t435\n",
            "Iteration: \t84 / 100\n",
            "Confirmed: \t13\n",
            "Tentative: \t2\n",
            "Rejected: \t435\n",
            "Iteration: \t85 / 100\n",
            "Confirmed: \t13\n",
            "Tentative: \t2\n",
            "Rejected: \t435\n",
            "Iteration: \t86 / 100\n",
            "Confirmed: \t13\n",
            "Tentative: \t2\n",
            "Rejected: \t435\n",
            "Iteration: \t87 / 100\n",
            "Confirmed: \t13\n",
            "Tentative: \t2\n",
            "Rejected: \t435\n",
            "Iteration: \t88 / 100\n",
            "Confirmed: \t13\n",
            "Tentative: \t2\n",
            "Rejected: \t435\n",
            "Iteration: \t89 / 100\n",
            "Confirmed: \t13\n",
            "Tentative: \t2\n",
            "Rejected: \t435\n",
            "Iteration: \t90 / 100\n",
            "Confirmed: \t13\n",
            "Tentative: \t2\n",
            "Rejected: \t435\n",
            "Iteration: \t91 / 100\n",
            "Confirmed: \t13\n",
            "Tentative: \t2\n",
            "Rejected: \t435\n",
            "Iteration: \t92 / 100\n",
            "Confirmed: \t13\n",
            "Tentative: \t2\n",
            "Rejected: \t435\n",
            "Iteration: \t93 / 100\n",
            "Confirmed: \t13\n",
            "Tentative: \t2\n",
            "Rejected: \t435\n",
            "Iteration: \t94 / 100\n",
            "Confirmed: \t13\n",
            "Tentative: \t2\n",
            "Rejected: \t435\n",
            "Iteration: \t95 / 100\n",
            "Confirmed: \t13\n",
            "Tentative: \t2\n",
            "Rejected: \t435\n",
            "Iteration: \t96 / 100\n",
            "Confirmed: \t13\n",
            "Tentative: \t2\n",
            "Rejected: \t435\n",
            "Iteration: \t97 / 100\n",
            "Confirmed: \t13\n",
            "Tentative: \t2\n",
            "Rejected: \t435\n",
            "Iteration: \t98 / 100\n",
            "Confirmed: \t13\n",
            "Tentative: \t2\n",
            "Rejected: \t435\n",
            "Iteration: \t99 / 100\n",
            "Confirmed: \t13\n",
            "Tentative: \t2\n",
            "Rejected: \t435\n",
            "\n",
            "\n",
            "BorutaPy finished running.\n",
            "\n",
            "Iteration: \t100 / 100\n",
            "Confirmed: \t13\n",
            "Tentative: \t1\n",
            "Rejected: \t435\n"
          ]
        },
        {
          "output_type": "execute_result",
          "data": {
            "text/plain": [
              "BorutaPy(estimator=RandomForestClassifier(max_depth=5, n_estimators=109,\n",
              "                                          random_state=RandomState(MT19937) at 0x7FEB744276B0),\n",
              "         n_estimators='auto',\n",
              "         random_state=RandomState(MT19937) at 0x7FEB744276B0, verbose=2)"
            ]
          },
          "metadata": {},
          "execution_count": 14
        }
      ],
      "source": [
        "from boruta import BorutaPy\n",
        "from sklearn.ensemble import RandomForestClassifier\n",
        "rfc = RandomForestClassifier(random_state=1, n_estimators=1000, max_depth=5)\n",
        "boruta_selector = BorutaPy(rfc, n_estimators='auto', verbose=2, random_state=1)\n",
        "boruta_selector.fit(np.array(X_train_knn_impute1), np.array(y_train))"
      ]
    },
    {
      "cell_type": "code",
      "execution_count": 15,
      "metadata": {
        "colab": {
          "base_uri": "https://localhost:8080/"
        },
        "id": "mzQFt_r25CGu",
        "outputId": "014b413b-7a69-4727-9893-0bcf0b5de20a"
      },
      "outputs": [
        {
          "output_type": "stream",
          "name": "stdout",
          "text": [
            "Ranking:  [ 94 388 135 360 169 409 413 390 141 149  77 151  96 252  16 269 230 411\n",
            " 271   6 123 319 315  69  21  25 308 366 146 393 194 120 344 252 306 195\n",
            "  10 260   9  73 202 285 148 384 133 190 330  43 310 294  43 338 175 224\n",
            "   1 290  13  39  13   1   1 226  72 129  80   5 126 171 435 152  88  92\n",
            " 264 374 245  93 289  95 352 348 341 232  82 198 409 200 173 425 421 392\n",
            " 423  84 247 427 153  40  99 247 282 254 250 228 312 113 275 328  18 295\n",
            "  91 145  23 214  48  37 251 230 346 306 221 386 209  31 275 369 292 390\n",
            " 247 300 408 265 340 358 385 267 208 154  86 206 334  65   1  79 336  18\n",
            "  49 118 343 421  51  28  84 396 235  97 121  20 217 402 300 416 342 378\n",
            " 406 282 351 328 224 338 186 237  71 100 180 126 198 136  55 143 166  23\n",
            " 259   2 435 190 164 435  33 115  53 182  28 174 138 263 240 354 298  89\n",
            " 257 240 178 204 110 271 171 353  53  42 258 116 282 374 420 304   1 162\n",
            " 179 412 404 156 325 364 318 362 402 236 338 247 125 213 161 317  58   3\n",
            " 130 240  75  34 200 380 417   1  21  87 319 297  36 181 186 122 381 269\n",
            " 414 378 106 372 219 238 312 315 255 150 198  38  59  81 189 206  83  75\n",
            " 105 186  41 165   1 435 170 109 376 211 435   1 128 101 407  34 364 158\n",
            " 370 168 395 415 228 262 295 140 355 214 377 328 273 275 209 113  63 108\n",
            " 280 333 386 302 261   6  98 383 243 255 103 293 368 192 278 309 335 348\n",
            " 370 144 131 102 323  90   1 176 167  11  27  31 424 332  56  30 116 243\n",
            " 350 302 182   1 212 298 186 364 306 382 428 284 398 398 192 132 133 267\n",
            "  67 112 224 142 240 222  67 267 157   1 146   4 435 321 286 397 323 288\n",
            " 279 322 358 158 312 177 219 275  62 233 160 217 355 111  16 136 203  60\n",
            " 429 227 138 357 393 345 312   1 216 233 426 431 432 430 361 325 291 346\n",
            "  69  12 404  26  15 162  61   8 205 366 287 196   1 419  63  75  56  49\n",
            "  45 123 388 330 374  52 400 103 401  46  67 106  47 119 184  77 155 417]\n",
            "No. of significant features:  13\n"
          ]
        }
      ],
      "source": [
        "# Ranking of Boruta\n",
        "\n",
        "print(\"Ranking: \",boruta_selector.ranking_)          \n",
        "print(\"No. of significant features: \", boruta_selector.n_features_) "
      ]
    },
    {
      "cell_type": "code",
      "execution_count": 16,
      "metadata": {
        "colab": {
          "base_uri": "https://localhost:8080/"
        },
        "id": "JEiSfqDQUOrV",
        "outputId": "1dec36bc-f556-411a-9dd1-fd4f4a56ad14"
      },
      "outputs": [
        {
          "output_type": "stream",
          "name": "stdout",
          "text": [
            "['feature60', 'feature65', 'feature66', 'feature154', 'feature268', 'feature299', 'feature342', 'feature349', 'feature427', 'feature442', 'feature476', 'feature540', 'feature563', 'feature206']\n"
          ]
        }
      ],
      "source": [
        "accepted = X_train_knn_impute1.columns[boruta_selector.support_].to_list()\n",
        "\n",
        "undecided = X_train_knn_impute1.columns[boruta_selector.support_weak_].to_list()\n",
        "\n",
        "selected_features = accepted + undecided\n",
        "\n",
        "\n",
        "print(selected_features)"
      ]
    },
    {
      "cell_type": "code",
      "execution_count": 17,
      "metadata": {
        "colab": {
          "base_uri": "https://localhost:8080/",
          "height": 520
        },
        "id": "XnPZvBdFUOrW",
        "outputId": "972aa2ff-ebc7-48a4-f2dc-bdebfe89bdcc"
      },
      "outputs": [
        {
          "output_type": "execute_result",
          "data": {
            "text/plain": [
              "        Feature  Ranking\n",
              "426  feature563        1\n",
              "214  feature268        1\n",
              "60    feature66        1\n",
              "281  feature349        1\n",
              "274  feature342        1\n",
              "59    feature65        1\n",
              "345  feature442        1\n",
              "369  feature476        1\n",
              "330  feature427        1\n",
              "140  feature154        1\n",
              "241  feature299        1\n",
              "403  feature540        1\n",
              "54    feature60        1\n",
              "181  feature206        2\n",
              "233  feature289        3"
            ],
            "text/html": [
              "\n",
              "  <div id=\"df-3aa0785f-12f3-476e-8dcb-d31b871832e9\">\n",
              "    <div class=\"colab-df-container\">\n",
              "      <div>\n",
              "<style scoped>\n",
              "    .dataframe tbody tr th:only-of-type {\n",
              "        vertical-align: middle;\n",
              "    }\n",
              "\n",
              "    .dataframe tbody tr th {\n",
              "        vertical-align: top;\n",
              "    }\n",
              "\n",
              "    .dataframe thead th {\n",
              "        text-align: right;\n",
              "    }\n",
              "</style>\n",
              "<table border=\"1\" class=\"dataframe\">\n",
              "  <thead>\n",
              "    <tr style=\"text-align: right;\">\n",
              "      <th></th>\n",
              "      <th>Feature</th>\n",
              "      <th>Ranking</th>\n",
              "    </tr>\n",
              "  </thead>\n",
              "  <tbody>\n",
              "    <tr>\n",
              "      <th>426</th>\n",
              "      <td>feature563</td>\n",
              "      <td>1</td>\n",
              "    </tr>\n",
              "    <tr>\n",
              "      <th>214</th>\n",
              "      <td>feature268</td>\n",
              "      <td>1</td>\n",
              "    </tr>\n",
              "    <tr>\n",
              "      <th>60</th>\n",
              "      <td>feature66</td>\n",
              "      <td>1</td>\n",
              "    </tr>\n",
              "    <tr>\n",
              "      <th>281</th>\n",
              "      <td>feature349</td>\n",
              "      <td>1</td>\n",
              "    </tr>\n",
              "    <tr>\n",
              "      <th>274</th>\n",
              "      <td>feature342</td>\n",
              "      <td>1</td>\n",
              "    </tr>\n",
              "    <tr>\n",
              "      <th>59</th>\n",
              "      <td>feature65</td>\n",
              "      <td>1</td>\n",
              "    </tr>\n",
              "    <tr>\n",
              "      <th>345</th>\n",
              "      <td>feature442</td>\n",
              "      <td>1</td>\n",
              "    </tr>\n",
              "    <tr>\n",
              "      <th>369</th>\n",
              "      <td>feature476</td>\n",
              "      <td>1</td>\n",
              "    </tr>\n",
              "    <tr>\n",
              "      <th>330</th>\n",
              "      <td>feature427</td>\n",
              "      <td>1</td>\n",
              "    </tr>\n",
              "    <tr>\n",
              "      <th>140</th>\n",
              "      <td>feature154</td>\n",
              "      <td>1</td>\n",
              "    </tr>\n",
              "    <tr>\n",
              "      <th>241</th>\n",
              "      <td>feature299</td>\n",
              "      <td>1</td>\n",
              "    </tr>\n",
              "    <tr>\n",
              "      <th>403</th>\n",
              "      <td>feature540</td>\n",
              "      <td>1</td>\n",
              "    </tr>\n",
              "    <tr>\n",
              "      <th>54</th>\n",
              "      <td>feature60</td>\n",
              "      <td>1</td>\n",
              "    </tr>\n",
              "    <tr>\n",
              "      <th>181</th>\n",
              "      <td>feature206</td>\n",
              "      <td>2</td>\n",
              "    </tr>\n",
              "    <tr>\n",
              "      <th>233</th>\n",
              "      <td>feature289</td>\n",
              "      <td>3</td>\n",
              "    </tr>\n",
              "  </tbody>\n",
              "</table>\n",
              "</div>\n",
              "      <button class=\"colab-df-convert\" onclick=\"convertToInteractive('df-3aa0785f-12f3-476e-8dcb-d31b871832e9')\"\n",
              "              title=\"Convert this dataframe to an interactive table.\"\n",
              "              style=\"display:none;\">\n",
              "        \n",
              "  <svg xmlns=\"http://www.w3.org/2000/svg\" height=\"24px\"viewBox=\"0 0 24 24\"\n",
              "       width=\"24px\">\n",
              "    <path d=\"M0 0h24v24H0V0z\" fill=\"none\"/>\n",
              "    <path d=\"M18.56 5.44l.94 2.06.94-2.06 2.06-.94-2.06-.94-.94-2.06-.94 2.06-2.06.94zm-11 1L8.5 8.5l.94-2.06 2.06-.94-2.06-.94L8.5 2.5l-.94 2.06-2.06.94zm10 10l.94 2.06.94-2.06 2.06-.94-2.06-.94-.94-2.06-.94 2.06-2.06.94z\"/><path d=\"M17.41 7.96l-1.37-1.37c-.4-.4-.92-.59-1.43-.59-.52 0-1.04.2-1.43.59L10.3 9.45l-7.72 7.72c-.78.78-.78 2.05 0 2.83L4 21.41c.39.39.9.59 1.41.59.51 0 1.02-.2 1.41-.59l7.78-7.78 2.81-2.81c.8-.78.8-2.07 0-2.86zM5.41 20L4 18.59l7.72-7.72 1.47 1.35L5.41 20z\"/>\n",
              "  </svg>\n",
              "      </button>\n",
              "      \n",
              "  <style>\n",
              "    .colab-df-container {\n",
              "      display:flex;\n",
              "      flex-wrap:wrap;\n",
              "      gap: 12px;\n",
              "    }\n",
              "\n",
              "    .colab-df-convert {\n",
              "      background-color: #E8F0FE;\n",
              "      border: none;\n",
              "      border-radius: 50%;\n",
              "      cursor: pointer;\n",
              "      display: none;\n",
              "      fill: #1967D2;\n",
              "      height: 32px;\n",
              "      padding: 0 0 0 0;\n",
              "      width: 32px;\n",
              "    }\n",
              "\n",
              "    .colab-df-convert:hover {\n",
              "      background-color: #E2EBFA;\n",
              "      box-shadow: 0px 1px 2px rgba(60, 64, 67, 0.3), 0px 1px 3px 1px rgba(60, 64, 67, 0.15);\n",
              "      fill: #174EA6;\n",
              "    }\n",
              "\n",
              "    [theme=dark] .colab-df-convert {\n",
              "      background-color: #3B4455;\n",
              "      fill: #D2E3FC;\n",
              "    }\n",
              "\n",
              "    [theme=dark] .colab-df-convert:hover {\n",
              "      background-color: #434B5C;\n",
              "      box-shadow: 0px 1px 3px 1px rgba(0, 0, 0, 0.15);\n",
              "      filter: drop-shadow(0px 1px 2px rgba(0, 0, 0, 0.3));\n",
              "      fill: #FFFFFF;\n",
              "    }\n",
              "  </style>\n",
              "\n",
              "      <script>\n",
              "        const buttonEl =\n",
              "          document.querySelector('#df-3aa0785f-12f3-476e-8dcb-d31b871832e9 button.colab-df-convert');\n",
              "        buttonEl.style.display =\n",
              "          google.colab.kernel.accessAllowed ? 'block' : 'none';\n",
              "\n",
              "        async function convertToInteractive(key) {\n",
              "          const element = document.querySelector('#df-3aa0785f-12f3-476e-8dcb-d31b871832e9');\n",
              "          const dataTable =\n",
              "            await google.colab.kernel.invokeFunction('convertToInteractive',\n",
              "                                                     [key], {});\n",
              "          if (!dataTable) return;\n",
              "\n",
              "          const docLinkHtml = 'Like what you see? Visit the ' +\n",
              "            '<a target=\"_blank\" href=https://colab.research.google.com/notebooks/data_table.ipynb>data table notebook</a>'\n",
              "            + ' to learn more about interactive tables.';\n",
              "          element.innerHTML = '';\n",
              "          dataTable['output_type'] = 'display_data';\n",
              "          await google.colab.output.renderOutput(dataTable, element);\n",
              "          const docLink = document.createElement('div');\n",
              "          docLink.innerHTML = docLinkHtml;\n",
              "          element.appendChild(docLink);\n",
              "        }\n",
              "      </script>\n",
              "    </div>\n",
              "  </div>\n",
              "  "
            ]
          },
          "metadata": {},
          "execution_count": 17
        }
      ],
      "source": [
        "selected_rf_features = pd.DataFrame({'Feature':list(X_train_knn_impute1.columns),\n",
        "                                       'Ranking':boruta_selector.ranking_})\n",
        "selected_rf_features.sort_values(by='Ranking').head(15)"
      ]
    },
    {
      "cell_type": "code",
      "execution_count": 18,
      "metadata": {
        "id": "jba1H6zuUOrW"
      },
      "outputs": [],
      "source": [
        "# Using the BorutaPy object to transform the features in the dataset.\n",
        "\n",
        "X_Filtered_train_2 = X_train_knn_impute1[selected_features]\n",
        "X_Filtered_test_2 =  X_test_knn_impute1[selected_features]\n",
        "\n",
        "X_Filtered_train = boruta_selector.transform(np.array(X_train_knn_impute1))\n",
        "\n",
        "X_Filtered_test = boruta_selector.transform(np.array(X_test_knn_impute1)) \n",
        "\n"
      ]
    },
    {
      "cell_type": "code",
      "source": [
        "pip install funcsigs"
      ],
      "metadata": {
        "colab": {
          "base_uri": "https://localhost:8080/"
        },
        "id": "34iUUt3RpgPX",
        "outputId": "805c1121-01d1-4035-c807-76625d9c278d"
      },
      "execution_count": 19,
      "outputs": [
        {
          "output_type": "stream",
          "name": "stdout",
          "text": [
            "Looking in indexes: https://pypi.org/simple, https://us-python.pkg.dev/colab-wheels/public/simple/\n",
            "Collecting funcsigs\n",
            "  Downloading funcsigs-1.0.2-py2.py3-none-any.whl (17 kB)\n",
            "Installing collected packages: funcsigs\n",
            "Successfully installed funcsigs-1.0.2\n"
          ]
        }
      ]
    },
    {
      "cell_type": "code",
      "source": [
        "pip install plotly_express"
      ],
      "metadata": {
        "colab": {
          "base_uri": "https://localhost:8080/"
        },
        "id": "uML7lDv1O4VI",
        "outputId": "0a63b478-6a7d-41a3-8ccc-cc915f89221d"
      },
      "execution_count": 20,
      "outputs": [
        {
          "output_type": "stream",
          "name": "stdout",
          "text": [
            "Looking in indexes: https://pypi.org/simple, https://us-python.pkg.dev/colab-wheels/public/simple/\n",
            "Collecting plotly_express\n",
            "  Downloading plotly_express-0.4.1-py2.py3-none-any.whl (2.9 kB)\n",
            "Requirement already satisfied: plotly>=4.1.0 in /usr/local/lib/python3.7/dist-packages (from plotly_express) (5.5.0)\n",
            "Requirement already satisfied: numpy>=1.11 in /usr/local/lib/python3.7/dist-packages (from plotly_express) (1.21.6)\n",
            "Requirement already satisfied: patsy>=0.5 in /usr/local/lib/python3.7/dist-packages (from plotly_express) (0.5.2)\n",
            "Requirement already satisfied: pandas>=0.20.0 in /usr/local/lib/python3.7/dist-packages (from plotly_express) (1.3.5)\n",
            "Requirement already satisfied: scipy>=0.18 in /usr/local/lib/python3.7/dist-packages (from plotly_express) (1.4.1)\n",
            "Requirement already satisfied: statsmodels>=0.9.0 in /usr/local/lib/python3.7/dist-packages (from plotly_express) (0.10.2)\n",
            "Requirement already satisfied: python-dateutil>=2.7.3 in /usr/local/lib/python3.7/dist-packages (from pandas>=0.20.0->plotly_express) (2.8.2)\n",
            "Requirement already satisfied: pytz>=2017.3 in /usr/local/lib/python3.7/dist-packages (from pandas>=0.20.0->plotly_express) (2022.1)\n",
            "Requirement already satisfied: six in /usr/local/lib/python3.7/dist-packages (from patsy>=0.5->plotly_express) (1.15.0)\n",
            "Requirement already satisfied: tenacity>=6.2.0 in /usr/local/lib/python3.7/dist-packages (from plotly>=4.1.0->plotly_express) (8.0.1)\n",
            "Installing collected packages: plotly-express\n",
            "Successfully installed plotly-express-0.4.1\n"
          ]
        }
      ]
    },
    {
      "cell_type": "markdown",
      "source": [
        "# UNDERSAMPLING"
      ],
      "metadata": {
        "id": "_FPgZcuMOAw6"
      }
    },
    {
      "cell_type": "code",
      "source": [
        "\n",
        "numColumns1 = y_train.select_dtypes(include=np.number).columns.tolist();\n",
        "imputer.fit(y_train[numColumns1])\n",
        "y_train_1 = imputer.transform(y_train[numColumns1])\n",
        "y_train_1 = pd.DataFrame(y_train_1, columns=numColumns1)\n",
        "#merge the train x and y data before undersampling\n",
        "merged_train_data = pd.concat([X_Filtered_train_2, y_train_1], axis=1)"
      ],
      "metadata": {
        "id": "a-96E53mVhE-"
      },
      "execution_count": 21,
      "outputs": []
    },
    {
      "cell_type": "code",
      "source": [
        "failed_tests = np.array(merged_train_data[merged_train_data['Result'] == 1].index)\n",
        "no_failed_tests = len(failed_tests)\n",
        "\n",
        "print(no_failed_tests)\n"
      ],
      "metadata": {
        "colab": {
          "base_uri": "https://localhost:8080/"
        },
        "id": "QUInH3clOCRN",
        "outputId": "9dce62e2-8647-4081-a5a9-2ea16386f288"
      },
      "execution_count": 22,
      "outputs": [
        {
          "output_type": "stream",
          "name": "stdout",
          "text": [
            "73\n"
          ]
        }
      ]
    },
    {
      "cell_type": "code",
      "source": [
        "merged_train_data['Result'].value_counts()"
      ],
      "metadata": {
        "colab": {
          "base_uri": "https://localhost:8080/"
        },
        "id": "2fP-wSdxO8uH",
        "outputId": "509acc36-2165-49d1-adaa-d33d80b5b954"
      },
      "execution_count": 23,
      "outputs": [
        {
          "output_type": "execute_result",
          "data": {
            "text/plain": [
              "-1.0    1023\n",
              " 1.0      73\n",
              "Name: Result, dtype: int64"
            ]
          },
          "metadata": {},
          "execution_count": 23
        }
      ]
    },
    {
      "cell_type": "code",
      "source": [
        "normal_indices = merged_train_data[merged_train_data['Result'] == -1]\n",
        "no_normal_indices = len(normal_indices)\n",
        "\n",
        "print(no_normal_indices)"
      ],
      "metadata": {
        "colab": {
          "base_uri": "https://localhost:8080/"
        },
        "id": "JAb99FgBPGY3",
        "outputId": "f778b9c8-7bda-42c2-c24f-95fed09881c7"
      },
      "execution_count": 24,
      "outputs": [
        {
          "output_type": "stream",
          "name": "stdout",
          "text": [
            "1023\n"
          ]
        }
      ]
    },
    {
      "cell_type": "code",
      "source": [
        "random_normal_indices = np.random.choice(no_normal_indices, size = no_failed_tests, replace = True)\n",
        "random_normal_indices = np.array(random_normal_indices)\n",
        "\n",
        "print(len(random_normal_indices))"
      ],
      "metadata": {
        "colab": {
          "base_uri": "https://localhost:8080/"
        },
        "id": "aK-C_KCuPOG3",
        "outputId": "dd6c49c0-77ac-49aa-ccab-b8e1d30e82fb"
      },
      "execution_count": 25,
      "outputs": [
        {
          "output_type": "stream",
          "name": "stdout",
          "text": [
            "73\n"
          ]
        }
      ]
    },
    {
      "cell_type": "code",
      "source": [
        "under_sample = np.concatenate([failed_tests, random_normal_indices])\n",
        "print(len(under_sample))"
      ],
      "metadata": {
        "colab": {
          "base_uri": "https://localhost:8080/"
        },
        "id": "2TTdI7WSPUJW",
        "outputId": "91d84d7d-af67-471d-98b5-234118efa55f"
      },
      "execution_count": 26,
      "outputs": [
        {
          "output_type": "stream",
          "name": "stdout",
          "text": [
            "146\n"
          ]
        }
      ]
    },
    {
      "cell_type": "code",
      "source": [
        "undersample_data = merged_train_data.iloc[under_sample,:]\n",
        "\n",
        "\n"
      ],
      "metadata": {
        "id": "3Ged8LS_PZvZ"
      },
      "execution_count": 27,
      "outputs": []
    },
    {
      "cell_type": "code",
      "source": [
        "# splitting the undersample train dataset into x and y sets\n",
        "\n",
        "x_train_undersample = undersample_data.iloc[:, undersample_data.columns != 'Result'] \n",
        "y_train_undersample = undersample_data.iloc[:, undersample_data.columns == 'Result']\n",
        "\n",
        "print(x_train_undersample.shape)\n",
        "print(y_train_undersample.shape)"
      ],
      "metadata": {
        "colab": {
          "base_uri": "https://localhost:8080/"
        },
        "id": "2NAMIMO4ievy",
        "outputId": "67863cc7-c6b2-4ab5-a619-aef6f09c73c1"
      },
      "execution_count": 28,
      "outputs": [
        {
          "output_type": "stream",
          "name": "stdout",
          "text": [
            "(146, 14)\n",
            "(146, 1)\n"
          ]
        }
      ]
    },
    {
      "cell_type": "code",
      "source": [
        "print(X_Filtered_test.shape)"
      ],
      "metadata": {
        "colab": {
          "base_uri": "https://localhost:8080/"
        },
        "id": "QB2u2_75kloo",
        "outputId": "22cc3894-f690-4163-e888-2fb137f9de54"
      },
      "execution_count": 29,
      "outputs": [
        {
          "output_type": "stream",
          "name": "stdout",
          "text": [
            "(471, 13)\n"
          ]
        }
      ]
    },
    {
      "cell_type": "code",
      "source": [
        ""
      ],
      "metadata": {
        "id": "dC6MUC1os7De"
      },
      "execution_count": 29,
      "outputs": []
    },
    {
      "cell_type": "markdown",
      "source": [
        "# **MODELING WITH UNDER SAMPLING**\n"
      ],
      "metadata": {
        "id": "tr0llFDkZSY5"
      }
    },
    {
      "cell_type": "markdown",
      "source": [
        "**LIBRARY IMPORTATION**"
      ],
      "metadata": {
        "id": "l-v0Y9Sbeojt"
      }
    },
    {
      "cell_type": "code",
      "source": [
        "import warnings\n",
        "warnings.filterwarnings(\"ignore\")\n",
        "from sklearn.tree import DecisionTreeClassifier\n",
        "from sklearn.ensemble import RandomForestClassifier\n",
        "from sklearn.naive_bayes import GaussianNB\n",
        "from sklearn.neighbors import KNeighborsClassifier\n",
        "from sklearn.svm import SVC\n",
        "from sklearn.linear_model import LogisticRegression\n",
        "from sklearn import metrics\n",
        "from sklearn.metrics import confusion_matrix\n",
        "from sklearn.metrics import accuracy_score\n",
        "from sklearn.metrics import classification_report\n",
        "#from sklearn.metrics import scorer\n",
        "from sklearn.metrics import roc_auc_score\n",
        "from sklearn.metrics import roc_curve\n",
        "from sklearn.model_selection import GridSearchCV \n",
        "from sklearn.model_selection import RandomizedSearchCV\n",
        "from sklearn.metrics import confusion_matrix\n",
        "from sklearn.metrics import precision_recall_curve\n",
        "from funcsigs import signature\n",
        "from sklearn.metrics import average_precision_score\n",
        "import plotly_express as px"
      ],
      "metadata": {
        "id": "sxaHf6buenkJ"
      },
      "execution_count": 30,
      "outputs": []
    },
    {
      "cell_type": "markdown",
      "source": [
        "**NAIVE BAYES CLASSIFIER**"
      ],
      "metadata": {
        "id": "7svzlehybJbj"
      }
    },
    {
      "cell_type": "code",
      "execution_count": 53,
      "metadata": {
        "colab": {
          "base_uri": "https://localhost:8080/",
          "height": 889
        },
        "id": "uYO-_PsbUOrZ",
        "outputId": "6ab50228-3eba-4e20-93fe-3392d22b5a5a"
      },
      "outputs": [
        {
          "output_type": "stream",
          "name": "stdout",
          "text": [
            "\n",
            " Naive Bayes : \n",
            "\n",
            "Training Score for Naive Bayes :  72.60\n",
            "Testing Score for Naive Bayes : 78.77\n",
            "Classification report  \n",
            "               precision    recall  f1-score   support\n",
            "\n",
            "          -1       0.95      0.81      0.88       440\n",
            "           1       0.14      0.42      0.21        31\n",
            "\n",
            "    accuracy                           0.79       471\n",
            "   macro avg       0.54      0.62      0.54       471\n",
            "weighted avg       0.90      0.79      0.83       471\n",
            "\n",
            "Confusion matrix  \n",
            " [[358  82]\n",
            " [ 18  13]]\n",
            "ROC AUC  : 0.6164956011730205\n",
            "Specificity:  41.935483870967744 %\n"
          ]
        },
        {
          "output_type": "display_data",
          "data": {
            "text/html": [
              "<html>\n",
              "<head><meta charset=\"utf-8\" /></head>\n",
              "<body>\n",
              "    <div>            <script src=\"https://cdnjs.cloudflare.com/ajax/libs/mathjax/2.7.5/MathJax.js?config=TeX-AMS-MML_SVG\"></script><script type=\"text/javascript\">if (window.MathJax) {MathJax.Hub.Config({SVG: {font: \"STIX-Web\"}});}</script>                <script type=\"text/javascript\">window.PlotlyConfig = {MathJaxConfig: 'local'};</script>\n",
              "        <script src=\"https://cdn.plot.ly/plotly-2.8.3.min.js\"></script>                <div id=\"68d6b1fa-89e0-4aa9-8484-073c7053af2e\" class=\"plotly-graph-div\" style=\"height:525px; width:100%;\"></div>            <script type=\"text/javascript\">                                    window.PLOTLYENV=window.PLOTLYENV || {};                                    if (document.getElementById(\"68d6b1fa-89e0-4aa9-8484-073c7053af2e\")) {                    Plotly.newPlot(                        \"68d6b1fa-89e0-4aa9-8484-073c7053af2e\",                        [{\"coloraxis\":\"coloraxis\",\"name\":\"0\",\"texttemplate\":\"%{z}\",\"z\":[[358,82],[18,13]],\"type\":\"heatmap\",\"xaxis\":\"x\",\"yaxis\":\"y\",\"hovertemplate\":\"x: %{x}<br>y: %{y}<br>color: %{z}<extra></extra>\"}],                        {\"template\":{\"data\":{\"bar\":[{\"error_x\":{\"color\":\"#2a3f5f\"},\"error_y\":{\"color\":\"#2a3f5f\"},\"marker\":{\"line\":{\"color\":\"#E5ECF6\",\"width\":0.5},\"pattern\":{\"fillmode\":\"overlay\",\"size\":10,\"solidity\":0.2}},\"type\":\"bar\"}],\"barpolar\":[{\"marker\":{\"line\":{\"color\":\"#E5ECF6\",\"width\":0.5},\"pattern\":{\"fillmode\":\"overlay\",\"size\":10,\"solidity\":0.2}},\"type\":\"barpolar\"}],\"carpet\":[{\"aaxis\":{\"endlinecolor\":\"#2a3f5f\",\"gridcolor\":\"white\",\"linecolor\":\"white\",\"minorgridcolor\":\"white\",\"startlinecolor\":\"#2a3f5f\"},\"baxis\":{\"endlinecolor\":\"#2a3f5f\",\"gridcolor\":\"white\",\"linecolor\":\"white\",\"minorgridcolor\":\"white\",\"startlinecolor\":\"#2a3f5f\"},\"type\":\"carpet\"}],\"choropleth\":[{\"colorbar\":{\"outlinewidth\":0,\"ticks\":\"\"},\"type\":\"choropleth\"}],\"contour\":[{\"colorbar\":{\"outlinewidth\":0,\"ticks\":\"\"},\"colorscale\":[[0.0,\"#0d0887\"],[0.1111111111111111,\"#46039f\"],[0.2222222222222222,\"#7201a8\"],[0.3333333333333333,\"#9c179e\"],[0.4444444444444444,\"#bd3786\"],[0.5555555555555556,\"#d8576b\"],[0.6666666666666666,\"#ed7953\"],[0.7777777777777778,\"#fb9f3a\"],[0.8888888888888888,\"#fdca26\"],[1.0,\"#f0f921\"]],\"type\":\"contour\"}],\"contourcarpet\":[{\"colorbar\":{\"outlinewidth\":0,\"ticks\":\"\"},\"type\":\"contourcarpet\"}],\"heatmap\":[{\"colorbar\":{\"outlinewidth\":0,\"ticks\":\"\"},\"colorscale\":[[0.0,\"#0d0887\"],[0.1111111111111111,\"#46039f\"],[0.2222222222222222,\"#7201a8\"],[0.3333333333333333,\"#9c179e\"],[0.4444444444444444,\"#bd3786\"],[0.5555555555555556,\"#d8576b\"],[0.6666666666666666,\"#ed7953\"],[0.7777777777777778,\"#fb9f3a\"],[0.8888888888888888,\"#fdca26\"],[1.0,\"#f0f921\"]],\"type\":\"heatmap\"}],\"heatmapgl\":[{\"colorbar\":{\"outlinewidth\":0,\"ticks\":\"\"},\"colorscale\":[[0.0,\"#0d0887\"],[0.1111111111111111,\"#46039f\"],[0.2222222222222222,\"#7201a8\"],[0.3333333333333333,\"#9c179e\"],[0.4444444444444444,\"#bd3786\"],[0.5555555555555556,\"#d8576b\"],[0.6666666666666666,\"#ed7953\"],[0.7777777777777778,\"#fb9f3a\"],[0.8888888888888888,\"#fdca26\"],[1.0,\"#f0f921\"]],\"type\":\"heatmapgl\"}],\"histogram\":[{\"marker\":{\"pattern\":{\"fillmode\":\"overlay\",\"size\":10,\"solidity\":0.2}},\"type\":\"histogram\"}],\"histogram2d\":[{\"colorbar\":{\"outlinewidth\":0,\"ticks\":\"\"},\"colorscale\":[[0.0,\"#0d0887\"],[0.1111111111111111,\"#46039f\"],[0.2222222222222222,\"#7201a8\"],[0.3333333333333333,\"#9c179e\"],[0.4444444444444444,\"#bd3786\"],[0.5555555555555556,\"#d8576b\"],[0.6666666666666666,\"#ed7953\"],[0.7777777777777778,\"#fb9f3a\"],[0.8888888888888888,\"#fdca26\"],[1.0,\"#f0f921\"]],\"type\":\"histogram2d\"}],\"histogram2dcontour\":[{\"colorbar\":{\"outlinewidth\":0,\"ticks\":\"\"},\"colorscale\":[[0.0,\"#0d0887\"],[0.1111111111111111,\"#46039f\"],[0.2222222222222222,\"#7201a8\"],[0.3333333333333333,\"#9c179e\"],[0.4444444444444444,\"#bd3786\"],[0.5555555555555556,\"#d8576b\"],[0.6666666666666666,\"#ed7953\"],[0.7777777777777778,\"#fb9f3a\"],[0.8888888888888888,\"#fdca26\"],[1.0,\"#f0f921\"]],\"type\":\"histogram2dcontour\"}],\"mesh3d\":[{\"colorbar\":{\"outlinewidth\":0,\"ticks\":\"\"},\"type\":\"mesh3d\"}],\"parcoords\":[{\"line\":{\"colorbar\":{\"outlinewidth\":0,\"ticks\":\"\"}},\"type\":\"parcoords\"}],\"pie\":[{\"automargin\":true,\"type\":\"pie\"}],\"scatter\":[{\"marker\":{\"colorbar\":{\"outlinewidth\":0,\"ticks\":\"\"}},\"type\":\"scatter\"}],\"scatter3d\":[{\"line\":{\"colorbar\":{\"outlinewidth\":0,\"ticks\":\"\"}},\"marker\":{\"colorbar\":{\"outlinewidth\":0,\"ticks\":\"\"}},\"type\":\"scatter3d\"}],\"scattercarpet\":[{\"marker\":{\"colorbar\":{\"outlinewidth\":0,\"ticks\":\"\"}},\"type\":\"scattercarpet\"}],\"scattergeo\":[{\"marker\":{\"colorbar\":{\"outlinewidth\":0,\"ticks\":\"\"}},\"type\":\"scattergeo\"}],\"scattergl\":[{\"marker\":{\"colorbar\":{\"outlinewidth\":0,\"ticks\":\"\"}},\"type\":\"scattergl\"}],\"scattermapbox\":[{\"marker\":{\"colorbar\":{\"outlinewidth\":0,\"ticks\":\"\"}},\"type\":\"scattermapbox\"}],\"scatterpolar\":[{\"marker\":{\"colorbar\":{\"outlinewidth\":0,\"ticks\":\"\"}},\"type\":\"scatterpolar\"}],\"scatterpolargl\":[{\"marker\":{\"colorbar\":{\"outlinewidth\":0,\"ticks\":\"\"}},\"type\":\"scatterpolargl\"}],\"scatterternary\":[{\"marker\":{\"colorbar\":{\"outlinewidth\":0,\"ticks\":\"\"}},\"type\":\"scatterternary\"}],\"surface\":[{\"colorbar\":{\"outlinewidth\":0,\"ticks\":\"\"},\"colorscale\":[[0.0,\"#0d0887\"],[0.1111111111111111,\"#46039f\"],[0.2222222222222222,\"#7201a8\"],[0.3333333333333333,\"#9c179e\"],[0.4444444444444444,\"#bd3786\"],[0.5555555555555556,\"#d8576b\"],[0.6666666666666666,\"#ed7953\"],[0.7777777777777778,\"#fb9f3a\"],[0.8888888888888888,\"#fdca26\"],[1.0,\"#f0f921\"]],\"type\":\"surface\"}],\"table\":[{\"cells\":{\"fill\":{\"color\":\"#EBF0F8\"},\"line\":{\"color\":\"white\"}},\"header\":{\"fill\":{\"color\":\"#C8D4E3\"},\"line\":{\"color\":\"white\"}},\"type\":\"table\"}]},\"layout\":{\"annotationdefaults\":{\"arrowcolor\":\"#2a3f5f\",\"arrowhead\":0,\"arrowwidth\":1},\"autotypenumbers\":\"strict\",\"coloraxis\":{\"colorbar\":{\"outlinewidth\":0,\"ticks\":\"\"}},\"colorscale\":{\"diverging\":[[0,\"#8e0152\"],[0.1,\"#c51b7d\"],[0.2,\"#de77ae\"],[0.3,\"#f1b6da\"],[0.4,\"#fde0ef\"],[0.5,\"#f7f7f7\"],[0.6,\"#e6f5d0\"],[0.7,\"#b8e186\"],[0.8,\"#7fbc41\"],[0.9,\"#4d9221\"],[1,\"#276419\"]],\"sequential\":[[0.0,\"#0d0887\"],[0.1111111111111111,\"#46039f\"],[0.2222222222222222,\"#7201a8\"],[0.3333333333333333,\"#9c179e\"],[0.4444444444444444,\"#bd3786\"],[0.5555555555555556,\"#d8576b\"],[0.6666666666666666,\"#ed7953\"],[0.7777777777777778,\"#fb9f3a\"],[0.8888888888888888,\"#fdca26\"],[1.0,\"#f0f921\"]],\"sequentialminus\":[[0.0,\"#0d0887\"],[0.1111111111111111,\"#46039f\"],[0.2222222222222222,\"#7201a8\"],[0.3333333333333333,\"#9c179e\"],[0.4444444444444444,\"#bd3786\"],[0.5555555555555556,\"#d8576b\"],[0.6666666666666666,\"#ed7953\"],[0.7777777777777778,\"#fb9f3a\"],[0.8888888888888888,\"#fdca26\"],[1.0,\"#f0f921\"]]},\"colorway\":[\"#636efa\",\"#EF553B\",\"#00cc96\",\"#ab63fa\",\"#FFA15A\",\"#19d3f3\",\"#FF6692\",\"#B6E880\",\"#FF97FF\",\"#FECB52\"],\"font\":{\"color\":\"#2a3f5f\"},\"geo\":{\"bgcolor\":\"white\",\"lakecolor\":\"white\",\"landcolor\":\"#E5ECF6\",\"showlakes\":true,\"showland\":true,\"subunitcolor\":\"white\"},\"hoverlabel\":{\"align\":\"left\"},\"hovermode\":\"closest\",\"mapbox\":{\"style\":\"light\"},\"paper_bgcolor\":\"white\",\"plot_bgcolor\":\"#E5ECF6\",\"polar\":{\"angularaxis\":{\"gridcolor\":\"white\",\"linecolor\":\"white\",\"ticks\":\"\"},\"bgcolor\":\"#E5ECF6\",\"radialaxis\":{\"gridcolor\":\"white\",\"linecolor\":\"white\",\"ticks\":\"\"}},\"scene\":{\"xaxis\":{\"backgroundcolor\":\"#E5ECF6\",\"gridcolor\":\"white\",\"gridwidth\":2,\"linecolor\":\"white\",\"showbackground\":true,\"ticks\":\"\",\"zerolinecolor\":\"white\"},\"yaxis\":{\"backgroundcolor\":\"#E5ECF6\",\"gridcolor\":\"white\",\"gridwidth\":2,\"linecolor\":\"white\",\"showbackground\":true,\"ticks\":\"\",\"zerolinecolor\":\"white\"},\"zaxis\":{\"backgroundcolor\":\"#E5ECF6\",\"gridcolor\":\"white\",\"gridwidth\":2,\"linecolor\":\"white\",\"showbackground\":true,\"ticks\":\"\",\"zerolinecolor\":\"white\"}},\"shapedefaults\":{\"line\":{\"color\":\"#2a3f5f\"}},\"ternary\":{\"aaxis\":{\"gridcolor\":\"white\",\"linecolor\":\"white\",\"ticks\":\"\"},\"baxis\":{\"gridcolor\":\"white\",\"linecolor\":\"white\",\"ticks\":\"\"},\"bgcolor\":\"#E5ECF6\",\"caxis\":{\"gridcolor\":\"white\",\"linecolor\":\"white\",\"ticks\":\"\"}},\"title\":{\"x\":0.05},\"xaxis\":{\"automargin\":true,\"gridcolor\":\"white\",\"linecolor\":\"white\",\"ticks\":\"\",\"title\":{\"standoff\":15},\"zerolinecolor\":\"white\",\"zerolinewidth\":2},\"yaxis\":{\"automargin\":true,\"gridcolor\":\"white\",\"linecolor\":\"white\",\"ticks\":\"\",\"title\":{\"standoff\":15},\"zerolinecolor\":\"white\",\"zerolinewidth\":2}}},\"xaxis\":{\"anchor\":\"y\",\"domain\":[0.0,1.0],\"scaleanchor\":\"y\",\"constrain\":\"domain\"},\"yaxis\":{\"anchor\":\"x\",\"domain\":[0.0,1.0],\"autorange\":\"reversed\",\"constrain\":\"domain\"},\"coloraxis\":{\"colorscale\":[[0.0,\"#0d0887\"],[0.1111111111111111,\"#46039f\"],[0.2222222222222222,\"#7201a8\"],[0.3333333333333333,\"#9c179e\"],[0.4444444444444444,\"#bd3786\"],[0.5555555555555556,\"#d8576b\"],[0.6666666666666666,\"#ed7953\"],[0.7777777777777778,\"#fb9f3a\"],[0.8888888888888888,\"#fdca26\"],[1.0,\"#f0f921\"]]},\"margin\":{\"t\":60}},                        {\"responsive\": true}                    ).then(function(){\n",
              "                            \n",
              "var gd = document.getElementById('68d6b1fa-89e0-4aa9-8484-073c7053af2e');\n",
              "var x = new MutationObserver(function (mutations, observer) {{\n",
              "        var display = window.getComputedStyle(gd).display;\n",
              "        if (!display || display === 'none') {{\n",
              "            console.log([gd, 'removed!']);\n",
              "            Plotly.purge(gd);\n",
              "            observer.disconnect();\n",
              "        }}\n",
              "}});\n",
              "\n",
              "// Listen for the removal of the full notebook cells\n",
              "var notebookContainer = gd.closest('#notebook-container');\n",
              "if (notebookContainer) {{\n",
              "    x.observe(notebookContainer, {childList: true});\n",
              "}}\n",
              "\n",
              "// Listen for the clearing of the current output cell\n",
              "var outputEl = gd.closest('.output');\n",
              "if (outputEl) {{\n",
              "    x.observe(outputEl, {childList: true});\n",
              "}}\n",
              "\n",
              "                        })                };                            </script>        </div>\n",
              "</body>\n",
              "</html>"
            ]
          },
          "metadata": {}
        }
      ],
      "source": [
        "\n",
        "\n",
        "classifiers = [['Naive Bayes :', GaussianNB()],\n",
        "              ]\n",
        "\n",
        "for name,classifier in classifiers:\n",
        "    clf=classifier.fit(x_train_undersample,y_train_undersample)\n",
        "    y_pred1=classifier.predict(X_Filtered_test_2)\n",
        "    print(f'\\n {name} \\n')\n",
        "    print(f'Training Score for {name}  {clf.score(x_train_undersample,y_train_undersample) * 100:.2f}' )\n",
        "    print(f'Testing Score for {name} {clf.score(X_Filtered_test_2,y_test) * 100:.2f}' )\n",
        "    print(f'Classification report  \\n {classification_report(y_test,y_pred1)}' )\n",
        "    print(f'Confusion matrix  \\n {confusion_matrix(y_test,y_pred1)}' )\n",
        "    print(f'ROC AUC  : {roc_auc_score(y_test,y_pred1)}' )\n",
        "    Specificity1 = np.float(13/31)\n",
        "\n",
        "print(\"Specificity: \", Specificity1*100,\"%\")\n",
        "px.imshow(confusion_matrix(y_test, y_pred1) , text_auto=True)\n",
        "   "
      ]
    },
    {
      "cell_type": "code",
      "source": [
        "prc = average_precision_score(y_test, y_pred1)\n",
        "#print(\"Precision Recall Score: {0:0.2f}\" .format(prc),\"%\")\n",
        "precision, recall, _ = precision_recall_curve(y_test, y_pred1)\n",
        "\n",
        "# In matplotlib < 1.5, plt.fill_between does not have a 'step' argument\n",
        "step_kwargs = ({'step': 'post'}\n",
        "               if 'step' in signature(plt.fill_between).parameters\n",
        "               else {})\n",
        "plt.step(recall, precision, color='b', alpha=0.2, where='post')\n",
        "plt.fill_between(recall, precision, alpha=0.2, color='b', **step_kwargs)\n",
        "\n",
        "#plt.title('Precision Recall Curve for Xg Boost', fontsize = 25)\n",
        "plt.xlabel('Recall', fontsize = 15)\n",
        "plt.ylabel('Precision', fontsize =15)\n",
        "plt.ylim([0.0, 1.05])\n",
        "plt.xlim([0.0, 1.0])\n",
        "plt.title('2-class Precision-Recall curve: AP={0:0.2f}'.format(prc))"
      ],
      "metadata": {
        "colab": {
          "base_uri": "https://localhost:8080/",
          "height": 426
        },
        "id": "3xZ1kNPKa80T",
        "outputId": "310c14ff-5d5a-42d7-96a5-53a95c59c2b4"
      },
      "execution_count": 54,
      "outputs": [
        {
          "output_type": "execute_result",
          "data": {
            "text/plain": [
              "Text(0.5, 1.0, '2-class Precision-Recall curve: AP=0.10')"
            ]
          },
          "metadata": {},
          "execution_count": 54
        },
        {
          "output_type": "display_data",
          "data": {
            "text/plain": [
              "<Figure size 864x432 with 1 Axes>"
            ],
            "image/png": "[encoded data removed]"
          },
          "metadata": {
            "needs_background": "light"
          }
        }
      ]
    },
    {
      "cell_type": "markdown",
      "source": [
        "**KN NEIGHBOURS CLASSIFIER**"
      ],
      "metadata": {
        "id": "RIvMJC_WcEbZ"
      }
    },
    {
      "cell_type": "code",
      "source": [
        "classifiers = [\n",
        "               ['KNeighbours :', KNeighborsClassifier()],\n",
        "               ]\n",
        "\n",
        "for name,classifier in classifiers:\n",
        "    clf=classifier.fit(x_train_undersample,y_train_undersample)\n",
        "    y_pred2=classifier.predict(X_Filtered_test_2)\n",
        "    print(f'\\n {name} \\n')\n",
        "    print(f'Training Score for {name}  {clf.score(x_train_undersample,y_train_undersample) * 100:.2f}' )\n",
        "    print(f'Testing Score for {name} {clf.score(X_Filtered_test_2,y_test) * 100:.2f}' )\n",
        "    print(f'Classification report  \\n {classification_report(y_test,y_pred2)}' )\n",
        "    print(f'Confusion matrix  \\n {confusion_matrix(y_test,y_pred2)}' )\n",
        "    print(f'ROC AUC  : {roc_auc_score(y_test,y_pred2)}' )\n",
        "    Specificity2 = np.float(20/31)\n",
        "print(\"Specificity: \", Specificity2*100,\"%\")\n",
        "px.imshow(confusion_matrix(y_test, y_pred2) , text_auto=True)\n",
        "   "
      ],
      "metadata": {
        "colab": {
          "base_uri": "https://localhost:8080/",
          "height": 889
        },
        "id": "orBhWl0qPPnp",
        "outputId": "06593142-4eb7-456b-a788-3e0e6ea08b28"
      },
      "execution_count": 56,
      "outputs": [
        {
          "output_type": "stream",
          "name": "stdout",
          "text": [
            "\n",
            " KNeighbours : \n",
            "\n",
            "Training Score for KNeighbours :  76.03\n",
            "Testing Score for KNeighbours : 64.54\n",
            "Classification report  \n",
            "               precision    recall  f1-score   support\n",
            "\n",
            "          -1       0.96      0.65      0.77       440\n",
            "           1       0.11      0.61      0.19        31\n",
            "\n",
            "    accuracy                           0.65       471\n",
            "   macro avg       0.53      0.63      0.48       471\n",
            "weighted avg       0.90      0.65      0.73       471\n",
            "\n",
            "Confusion matrix  \n",
            " [[285 155]\n",
            " [ 12  19]]\n",
            "ROC AUC  : 0.6303152492668621\n",
            "Specificity:  64.51612903225806 %\n"
          ]
        },
        {
          "output_type": "display_data",
          "data": {
            "text/html": [
              "<html>\n",
              "<head><meta charset=\"utf-8\" /></head>\n",
              "<body>\n",
              "    <div>            <script src=\"https://cdnjs.cloudflare.com/ajax/libs/mathjax/2.7.5/MathJax.js?config=TeX-AMS-MML_SVG\"></script><script type=\"text/javascript\">if (window.MathJax) {MathJax.Hub.Config({SVG: {font: \"STIX-Web\"}});}</script>                <script type=\"text/javascript\">window.PlotlyConfig = {MathJaxConfig: 'local'};</script>\n",
              "        <script src=\"https://cdn.plot.ly/plotly-2.8.3.min.js\"></script>                <div id=\"5295afbd-2b75-4c27-92fe-90eb045fbfbe\" class=\"plotly-graph-div\" style=\"height:525px; width:100%;\"></div>            <script type=\"text/javascript\">                                    window.PLOTLYENV=window.PLOTLYENV || {};                                    if (document.getElementById(\"5295afbd-2b75-4c27-92fe-90eb045fbfbe\")) {                    Plotly.newPlot(                        \"5295afbd-2b75-4c27-92fe-90eb045fbfbe\",                        [{\"coloraxis\":\"coloraxis\",\"name\":\"0\",\"texttemplate\":\"%{z}\",\"z\":[[285,155],[12,19]],\"type\":\"heatmap\",\"xaxis\":\"x\",\"yaxis\":\"y\",\"hovertemplate\":\"x: %{x}<br>y: %{y}<br>color: %{z}<extra></extra>\"}],                        {\"template\":{\"data\":{\"bar\":[{\"error_x\":{\"color\":\"#2a3f5f\"},\"error_y\":{\"color\":\"#2a3f5f\"},\"marker\":{\"line\":{\"color\":\"#E5ECF6\",\"width\":0.5},\"pattern\":{\"fillmode\":\"overlay\",\"size\":10,\"solidity\":0.2}},\"type\":\"bar\"}],\"barpolar\":[{\"marker\":{\"line\":{\"color\":\"#E5ECF6\",\"width\":0.5},\"pattern\":{\"fillmode\":\"overlay\",\"size\":10,\"solidity\":0.2}},\"type\":\"barpolar\"}],\"carpet\":[{\"aaxis\":{\"endlinecolor\":\"#2a3f5f\",\"gridcolor\":\"white\",\"linecolor\":\"white\",\"minorgridcolor\":\"white\",\"startlinecolor\":\"#2a3f5f\"},\"baxis\":{\"endlinecolor\":\"#2a3f5f\",\"gridcolor\":\"white\",\"linecolor\":\"white\",\"minorgridcolor\":\"white\",\"startlinecolor\":\"#2a3f5f\"},\"type\":\"carpet\"}],\"choropleth\":[{\"colorbar\":{\"outlinewidth\":0,\"ticks\":\"\"},\"type\":\"choropleth\"}],\"contour\":[{\"colorbar\":{\"outlinewidth\":0,\"ticks\":\"\"},\"colorscale\":[[0.0,\"#0d0887\"],[0.1111111111111111,\"#46039f\"],[0.2222222222222222,\"#7201a8\"],[0.3333333333333333,\"#9c179e\"],[0.4444444444444444,\"#bd3786\"],[0.5555555555555556,\"#d8576b\"],[0.6666666666666666,\"#ed7953\"],[0.7777777777777778,\"#fb9f3a\"],[0.8888888888888888,\"#fdca26\"],[1.0,\"#f0f921\"]],\"type\":\"contour\"}],\"contourcarpet\":[{\"colorbar\":{\"outlinewidth\":0,\"ticks\":\"\"},\"type\":\"contourcarpet\"}],\"heatmap\":[{\"colorbar\":{\"outlinewidth\":0,\"ticks\":\"\"},\"colorscale\":[[0.0,\"#0d0887\"],[0.1111111111111111,\"#46039f\"],[0.2222222222222222,\"#7201a8\"],[0.3333333333333333,\"#9c179e\"],[0.4444444444444444,\"#bd3786\"],[0.5555555555555556,\"#d8576b\"],[0.6666666666666666,\"#ed7953\"],[0.7777777777777778,\"#fb9f3a\"],[0.8888888888888888,\"#fdca26\"],[1.0,\"#f0f921\"]],\"type\":\"heatmap\"}],\"heatmapgl\":[{\"colorbar\":{\"outlinewidth\":0,\"ticks\":\"\"},\"colorscale\":[[0.0,\"#0d0887\"],[0.1111111111111111,\"#46039f\"],[0.2222222222222222,\"#7201a8\"],[0.3333333333333333,\"#9c179e\"],[0.4444444444444444,\"#bd3786\"],[0.5555555555555556,\"#d8576b\"],[0.6666666666666666,\"#ed7953\"],[0.7777777777777778,\"#fb9f3a\"],[0.8888888888888888,\"#fdca26\"],[1.0,\"#f0f921\"]],\"type\":\"heatmapgl\"}],\"histogram\":[{\"marker\":{\"pattern\":{\"fillmode\":\"overlay\",\"size\":10,\"solidity\":0.2}},\"type\":\"histogram\"}],\"histogram2d\":[{\"colorbar\":{\"outlinewidth\":0,\"ticks\":\"\"},\"colorscale\":[[0.0,\"#0d0887\"],[0.1111111111111111,\"#46039f\"],[0.2222222222222222,\"#7201a8\"],[0.3333333333333333,\"#9c179e\"],[0.4444444444444444,\"#bd3786\"],[0.5555555555555556,\"#d8576b\"],[0.6666666666666666,\"#ed7953\"],[0.7777777777777778,\"#fb9f3a\"],[0.8888888888888888,\"#fdca26\"],[1.0,\"#f0f921\"]],\"type\":\"histogram2d\"}],\"histogram2dcontour\":[{\"colorbar\":{\"outlinewidth\":0,\"ticks\":\"\"},\"colorscale\":[[0.0,\"#0d0887\"],[0.1111111111111111,\"#46039f\"],[0.2222222222222222,\"#7201a8\"],[0.3333333333333333,\"#9c179e\"],[0.4444444444444444,\"#bd3786\"],[0.5555555555555556,\"#d8576b\"],[0.6666666666666666,\"#ed7953\"],[0.7777777777777778,\"#fb9f3a\"],[0.8888888888888888,\"#fdca26\"],[1.0,\"#f0f921\"]],\"type\":\"histogram2dcontour\"}],\"mesh3d\":[{\"colorbar\":{\"outlinewidth\":0,\"ticks\":\"\"},\"type\":\"mesh3d\"}],\"parcoords\":[{\"line\":{\"colorbar\":{\"outlinewidth\":0,\"ticks\":\"\"}},\"type\":\"parcoords\"}],\"pie\":[{\"automargin\":true,\"type\":\"pie\"}],\"scatter\":[{\"marker\":{\"colorbar\":{\"outlinewidth\":0,\"ticks\":\"\"}},\"type\":\"scatter\"}],\"scatter3d\":[{\"line\":{\"colorbar\":{\"outlinewidth\":0,\"ticks\":\"\"}},\"marker\":{\"colorbar\":{\"outlinewidth\":0,\"ticks\":\"\"}},\"type\":\"scatter3d\"}],\"scattercarpet\":[{\"marker\":{\"colorbar\":{\"outlinewidth\":0,\"ticks\":\"\"}},\"type\":\"scattercarpet\"}],\"scattergeo\":[{\"marker\":{\"colorbar\":{\"outlinewidth\":0,\"ticks\":\"\"}},\"type\":\"scattergeo\"}],\"scattergl\":[{\"marker\":{\"colorbar\":{\"outlinewidth\":0,\"ticks\":\"\"}},\"type\":\"scattergl\"}],\"scattermapbox\":[{\"marker\":{\"colorbar\":{\"outlinewidth\":0,\"ticks\":\"\"}},\"type\":\"scattermapbox\"}],\"scatterpolar\":[{\"marker\":{\"colorbar\":{\"outlinewidth\":0,\"ticks\":\"\"}},\"type\":\"scatterpolar\"}],\"scatterpolargl\":[{\"marker\":{\"colorbar\":{\"outlinewidth\":0,\"ticks\":\"\"}},\"type\":\"scatterpolargl\"}],\"scatterternary\":[{\"marker\":{\"colorbar\":{\"outlinewidth\":0,\"ticks\":\"\"}},\"type\":\"scatterternary\"}],\"surface\":[{\"colorbar\":{\"outlinewidth\":0,\"ticks\":\"\"},\"colorscale\":[[0.0,\"#0d0887\"],[0.1111111111111111,\"#46039f\"],[0.2222222222222222,\"#7201a8\"],[0.3333333333333333,\"#9c179e\"],[0.4444444444444444,\"#bd3786\"],[0.5555555555555556,\"#d8576b\"],[0.6666666666666666,\"#ed7953\"],[0.7777777777777778,\"#fb9f3a\"],[0.8888888888888888,\"#fdca26\"],[1.0,\"#f0f921\"]],\"type\":\"surface\"}],\"table\":[{\"cells\":{\"fill\":{\"color\":\"#EBF0F8\"},\"line\":{\"color\":\"white\"}},\"header\":{\"fill\":{\"color\":\"#C8D4E3\"},\"line\":{\"color\":\"white\"}},\"type\":\"table\"}]},\"layout\":{\"annotationdefaults\":{\"arrowcolor\":\"#2a3f5f\",\"arrowhead\":0,\"arrowwidth\":1},\"autotypenumbers\":\"strict\",\"coloraxis\":{\"colorbar\":{\"outlinewidth\":0,\"ticks\":\"\"}},\"colorscale\":{\"diverging\":[[0,\"#8e0152\"],[0.1,\"#c51b7d\"],[0.2,\"#de77ae\"],[0.3,\"#f1b6da\"],[0.4,\"#fde0ef\"],[0.5,\"#f7f7f7\"],[0.6,\"#e6f5d0\"],[0.7,\"#b8e186\"],[0.8,\"#7fbc41\"],[0.9,\"#4d9221\"],[1,\"#276419\"]],\"sequential\":[[0.0,\"#0d0887\"],[0.1111111111111111,\"#46039f\"],[0.2222222222222222,\"#7201a8\"],[0.3333333333333333,\"#9c179e\"],[0.4444444444444444,\"#bd3786\"],[0.5555555555555556,\"#d8576b\"],[0.6666666666666666,\"#ed7953\"],[0.7777777777777778,\"#fb9f3a\"],[0.8888888888888888,\"#fdca26\"],[1.0,\"#f0f921\"]],\"sequentialminus\":[[0.0,\"#0d0887\"],[0.1111111111111111,\"#46039f\"],[0.2222222222222222,\"#7201a8\"],[0.3333333333333333,\"#9c179e\"],[0.4444444444444444,\"#bd3786\"],[0.5555555555555556,\"#d8576b\"],[0.6666666666666666,\"#ed7953\"],[0.7777777777777778,\"#fb9f3a\"],[0.8888888888888888,\"#fdca26\"],[1.0,\"#f0f921\"]]},\"colorway\":[\"#636efa\",\"#EF553B\",\"#00cc96\",\"#ab63fa\",\"#FFA15A\",\"#19d3f3\",\"#FF6692\",\"#B6E880\",\"#FF97FF\",\"#FECB52\"],\"font\":{\"color\":\"#2a3f5f\"},\"geo\":{\"bgcolor\":\"white\",\"lakecolor\":\"white\",\"landcolor\":\"#E5ECF6\",\"showlakes\":true,\"showland\":true,\"subunitcolor\":\"white\"},\"hoverlabel\":{\"align\":\"left\"},\"hovermode\":\"closest\",\"mapbox\":{\"style\":\"light\"},\"paper_bgcolor\":\"white\",\"plot_bgcolor\":\"#E5ECF6\",\"polar\":{\"angularaxis\":{\"gridcolor\":\"white\",\"linecolor\":\"white\",\"ticks\":\"\"},\"bgcolor\":\"#E5ECF6\",\"radialaxis\":{\"gridcolor\":\"white\",\"linecolor\":\"white\",\"ticks\":\"\"}},\"scene\":{\"xaxis\":{\"backgroundcolor\":\"#E5ECF6\",\"gridcolor\":\"white\",\"gridwidth\":2,\"linecolor\":\"white\",\"showbackground\":true,\"ticks\":\"\",\"zerolinecolor\":\"white\"},\"yaxis\":{\"backgroundcolor\":\"#E5ECF6\",\"gridcolor\":\"white\",\"gridwidth\":2,\"linecolor\":\"white\",\"showbackground\":true,\"ticks\":\"\",\"zerolinecolor\":\"white\"},\"zaxis\":{\"backgroundcolor\":\"#E5ECF6\",\"gridcolor\":\"white\",\"gridwidth\":2,\"linecolor\":\"white\",\"showbackground\":true,\"ticks\":\"\",\"zerolinecolor\":\"white\"}},\"shapedefaults\":{\"line\":{\"color\":\"#2a3f5f\"}},\"ternary\":{\"aaxis\":{\"gridcolor\":\"white\",\"linecolor\":\"white\",\"ticks\":\"\"},\"baxis\":{\"gridcolor\":\"white\",\"linecolor\":\"white\",\"ticks\":\"\"},\"bgcolor\":\"#E5ECF6\",\"caxis\":{\"gridcolor\":\"white\",\"linecolor\":\"white\",\"ticks\":\"\"}},\"title\":{\"x\":0.05},\"xaxis\":{\"automargin\":true,\"gridcolor\":\"white\",\"linecolor\":\"white\",\"ticks\":\"\",\"title\":{\"standoff\":15},\"zerolinecolor\":\"white\",\"zerolinewidth\":2},\"yaxis\":{\"automargin\":true,\"gridcolor\":\"white\",\"linecolor\":\"white\",\"ticks\":\"\",\"title\":{\"standoff\":15},\"zerolinecolor\":\"white\",\"zerolinewidth\":2}}},\"xaxis\":{\"anchor\":\"y\",\"domain\":[0.0,1.0],\"scaleanchor\":\"y\",\"constrain\":\"domain\"},\"yaxis\":{\"anchor\":\"x\",\"domain\":[0.0,1.0],\"autorange\":\"reversed\",\"constrain\":\"domain\"},\"coloraxis\":{\"colorscale\":[[0.0,\"#0d0887\"],[0.1111111111111111,\"#46039f\"],[0.2222222222222222,\"#7201a8\"],[0.3333333333333333,\"#9c179e\"],[0.4444444444444444,\"#bd3786\"],[0.5555555555555556,\"#d8576b\"],[0.6666666666666666,\"#ed7953\"],[0.7777777777777778,\"#fb9f3a\"],[0.8888888888888888,\"#fdca26\"],[1.0,\"#f0f921\"]]},\"margin\":{\"t\":60}},                        {\"responsive\": true}                    ).then(function(){\n",
              "                            \n",
              "var gd = document.getElementById('5295afbd-2b75-4c27-92fe-90eb045fbfbe');\n",
              "var x = new MutationObserver(function (mutations, observer) {{\n",
              "        var display = window.getComputedStyle(gd).display;\n",
              "        if (!display || display === 'none') {{\n",
              "            console.log([gd, 'removed!']);\n",
              "            Plotly.purge(gd);\n",
              "            observer.disconnect();\n",
              "        }}\n",
              "}});\n",
              "\n",
              "// Listen for the removal of the full notebook cells\n",
              "var notebookContainer = gd.closest('#notebook-container');\n",
              "if (notebookContainer) {{\n",
              "    x.observe(notebookContainer, {childList: true});\n",
              "}}\n",
              "\n",
              "// Listen for the clearing of the current output cell\n",
              "var outputEl = gd.closest('.output');\n",
              "if (outputEl) {{\n",
              "    x.observe(outputEl, {childList: true});\n",
              "}}\n",
              "\n",
              "                        })                };                            </script>        </div>\n",
              "</body>\n",
              "</html>"
            ]
          },
          "metadata": {}
        }
      ]
    },
    {
      "cell_type": "code",
      "source": [
        "prc = average_precision_score(y_test, y_pred2)\n",
        "#print(\"Precision Recall Score: {0:0.2f}\" .format(prc),\"%\")\n",
        "precision, recall, _ = precision_recall_curve(y_test, y_pred2)\n",
        "\n",
        "# In matplotlib < 1.5, plt.fill_between does not have a 'step' argument\n",
        "step_kwargs = ({'step': 'post'}\n",
        "               if 'step' in signature(plt.fill_between).parameters\n",
        "               else {})\n",
        "plt.step(recall, precision, color='b', alpha=0.2, where='post')\n",
        "plt.fill_between(recall, precision, alpha=0.2, color='b', **step_kwargs)\n",
        "\n",
        "\n",
        "plt.xlabel('Recall', fontsize = 15)\n",
        "plt.ylabel('Precision', fontsize =15)\n",
        "plt.ylim([0.0, 1.05])\n",
        "plt.xlim([0.0, 1.0])\n",
        "plt.title('2-class Precision-Recall curve: AP={0:0.2f}'.format(prc))"
      ],
      "metadata": {
        "colab": {
          "base_uri": "https://localhost:8080/",
          "height": 426
        },
        "id": "ZGZN2mI9b1yF",
        "outputId": "21c4ca58-d21a-41dc-c583-0041f8949b1b"
      },
      "execution_count": 58,
      "outputs": [
        {
          "output_type": "execute_result",
          "data": {
            "text/plain": [
              "Text(0.5, 1.0, '2-class Precision-Recall curve: AP=0.09')"
            ]
          },
          "metadata": {},
          "execution_count": 58
        },
        {
          "output_type": "display_data",
          "data": {
            "text/plain": [
              "<Figure size 864x432 with 1 Axes>"
            ],
            "image/png": "[encoded data removed]"
          },
          "metadata": {
            "needs_background": "light"
          }
        }
      ]
    },
    {
      "cell_type": "markdown",
      "source": [
        ""
      ],
      "metadata": {
        "id": "efAMszJFcdfu"
      }
    },
    {
      "cell_type": "markdown",
      "source": [
        "**SVM CLASSIFIER**\n"
      ],
      "metadata": {
        "id": "RNQOutE3cdyu"
      }
    },
    {
      "cell_type": "code",
      "source": [
        "classifiers = [\n",
        "               ['SVM :', SVC()]]\n",
        "\n",
        "for name,classifier in classifiers:\n",
        "    clf=classifier.fit(x_train_undersample,y_train_undersample)\n",
        "    y_pred3=classifier.predict(X_Filtered_test_2)\n",
        "    print(f'\\n {name} \\n')\n",
        "    print(f'Training Score for {name}  {clf.score(x_train_undersample,y_train_undersample) * 100:.2f}' )\n",
        "    print(f'Testing Score for {name} {clf.score(X_Filtered_test_2,y_test) * 100:.2f}' )\n",
        "    print(f'Classification report  \\n {classification_report(y_test,y_pred3)}' )\n",
        "    print(f'Confusion matrix  \\n {confusion_matrix(y_test,y_pred3)}' )\n",
        "    print(f'ROC AUC  : {roc_auc_score(y_test,y_pred3)}' )\n",
        "    Specificity3 = np.float(31/31)\n",
        "print(\"Specificity: \", Specificity3*100,\"%\")\n",
        "px.imshow(confusion_matrix(y_test, y_pred3) , text_auto=True)\n",
        "   "
      ],
      "metadata": {
        "colab": {
          "base_uri": "https://localhost:8080/",
          "height": 889
        },
        "id": "KiqRyNvIZwPf",
        "outputId": "78bbc16a-f1ab-46b9-eac5-5d152a9429b2"
      },
      "execution_count": 59,
      "outputs": [
        {
          "output_type": "stream",
          "name": "stdout",
          "text": [
            "\n",
            " SVM : \n",
            "\n",
            "Training Score for SVM :  52.05\n",
            "Testing Score for SVM : 6.58\n",
            "Classification report  \n",
            "               precision    recall  f1-score   support\n",
            "\n",
            "          -1       0.00      0.00      0.00       440\n",
            "           1       0.07      1.00      0.12        31\n",
            "\n",
            "    accuracy                           0.07       471\n",
            "   macro avg       0.03      0.50      0.06       471\n",
            "weighted avg       0.00      0.07      0.01       471\n",
            "\n",
            "Confusion matrix  \n",
            " [[  0 440]\n",
            " [  0  31]]\n",
            "ROC AUC  : 0.5\n",
            "Specificity:  100.0 %\n"
          ]
        },
        {
          "output_type": "display_data",
          "data": {
            "text/html": [
              "<html>\n",
              "<head><meta charset=\"utf-8\" /></head>\n",
              "<body>\n",
              "    <div>            <script src=\"https://cdnjs.cloudflare.com/ajax/libs/mathjax/2.7.5/MathJax.js?config=TeX-AMS-MML_SVG\"></script><script type=\"text/javascript\">if (window.MathJax) {MathJax.Hub.Config({SVG: {font: \"STIX-Web\"}});}</script>                <script type=\"text/javascript\">window.PlotlyConfig = {MathJaxConfig: 'local'};</script>\n",
              "        <script src=\"https://cdn.plot.ly/plotly-2.8.3.min.js\"></script>                <div id=\"e1f92eb6-1f56-4cf0-98eb-5f2bb7b6a2ad\" class=\"plotly-graph-div\" style=\"height:525px; width:100%;\"></div>            <script type=\"text/javascript\">                                    window.PLOTLYENV=window.PLOTLYENV || {};                                    if (document.getElementById(\"e1f92eb6-1f56-4cf0-98eb-5f2bb7b6a2ad\")) {                    Plotly.newPlot(                        \"e1f92eb6-1f56-4cf0-98eb-5f2bb7b6a2ad\",                        [{\"coloraxis\":\"coloraxis\",\"name\":\"0\",\"texttemplate\":\"%{z}\",\"z\":[[0,440],[0,31]],\"type\":\"heatmap\",\"xaxis\":\"x\",\"yaxis\":\"y\",\"hovertemplate\":\"x: %{x}<br>y: %{y}<br>color: %{z}<extra></extra>\"}],                        {\"template\":{\"data\":{\"bar\":[{\"error_x\":{\"color\":\"#2a3f5f\"},\"error_y\":{\"color\":\"#2a3f5f\"},\"marker\":{\"line\":{\"color\":\"#E5ECF6\",\"width\":0.5},\"pattern\":{\"fillmode\":\"overlay\",\"size\":10,\"solidity\":0.2}},\"type\":\"bar\"}],\"barpolar\":[{\"marker\":{\"line\":{\"color\":\"#E5ECF6\",\"width\":0.5},\"pattern\":{\"fillmode\":\"overlay\",\"size\":10,\"solidity\":0.2}},\"type\":\"barpolar\"}],\"carpet\":[{\"aaxis\":{\"endlinecolor\":\"#2a3f5f\",\"gridcolor\":\"white\",\"linecolor\":\"white\",\"minorgridcolor\":\"white\",\"startlinecolor\":\"#2a3f5f\"},\"baxis\":{\"endlinecolor\":\"#2a3f5f\",\"gridcolor\":\"white\",\"linecolor\":\"white\",\"minorgridcolor\":\"white\",\"startlinecolor\":\"#2a3f5f\"},\"type\":\"carpet\"}],\"choropleth\":[{\"colorbar\":{\"outlinewidth\":0,\"ticks\":\"\"},\"type\":\"choropleth\"}],\"contour\":[{\"colorbar\":{\"outlinewidth\":0,\"ticks\":\"\"},\"colorscale\":[[0.0,\"#0d0887\"],[0.1111111111111111,\"#46039f\"],[0.2222222222222222,\"#7201a8\"],[0.3333333333333333,\"#9c179e\"],[0.4444444444444444,\"#bd3786\"],[0.5555555555555556,\"#d8576b\"],[0.6666666666666666,\"#ed7953\"],[0.7777777777777778,\"#fb9f3a\"],[0.8888888888888888,\"#fdca26\"],[1.0,\"#f0f921\"]],\"type\":\"contour\"}],\"contourcarpet\":[{\"colorbar\":{\"outlinewidth\":0,\"ticks\":\"\"},\"type\":\"contourcarpet\"}],\"heatmap\":[{\"colorbar\":{\"outlinewidth\":0,\"ticks\":\"\"},\"colorscale\":[[0.0,\"#0d0887\"],[0.1111111111111111,\"#46039f\"],[0.2222222222222222,\"#7201a8\"],[0.3333333333333333,\"#9c179e\"],[0.4444444444444444,\"#bd3786\"],[0.5555555555555556,\"#d8576b\"],[0.6666666666666666,\"#ed7953\"],[0.7777777777777778,\"#fb9f3a\"],[0.8888888888888888,\"#fdca26\"],[1.0,\"#f0f921\"]],\"type\":\"heatmap\"}],\"heatmapgl\":[{\"colorbar\":{\"outlinewidth\":0,\"ticks\":\"\"},\"colorscale\":[[0.0,\"#0d0887\"],[0.1111111111111111,\"#46039f\"],[0.2222222222222222,\"#7201a8\"],[0.3333333333333333,\"#9c179e\"],[0.4444444444444444,\"#bd3786\"],[0.5555555555555556,\"#d8576b\"],[0.6666666666666666,\"#ed7953\"],[0.7777777777777778,\"#fb9f3a\"],[0.8888888888888888,\"#fdca26\"],[1.0,\"#f0f921\"]],\"type\":\"heatmapgl\"}],\"histogram\":[{\"marker\":{\"pattern\":{\"fillmode\":\"overlay\",\"size\":10,\"solidity\":0.2}},\"type\":\"histogram\"}],\"histogram2d\":[{\"colorbar\":{\"outlinewidth\":0,\"ticks\":\"\"},\"colorscale\":[[0.0,\"#0d0887\"],[0.1111111111111111,\"#46039f\"],[0.2222222222222222,\"#7201a8\"],[0.3333333333333333,\"#9c179e\"],[0.4444444444444444,\"#bd3786\"],[0.5555555555555556,\"#d8576b\"],[0.6666666666666666,\"#ed7953\"],[0.7777777777777778,\"#fb9f3a\"],[0.8888888888888888,\"#fdca26\"],[1.0,\"#f0f921\"]],\"type\":\"histogram2d\"}],\"histogram2dcontour\":[{\"colorbar\":{\"outlinewidth\":0,\"ticks\":\"\"},\"colorscale\":[[0.0,\"#0d0887\"],[0.1111111111111111,\"#46039f\"],[0.2222222222222222,\"#7201a8\"],[0.3333333333333333,\"#9c179e\"],[0.4444444444444444,\"#bd3786\"],[0.5555555555555556,\"#d8576b\"],[0.6666666666666666,\"#ed7953\"],[0.7777777777777778,\"#fb9f3a\"],[0.8888888888888888,\"#fdca26\"],[1.0,\"#f0f921\"]],\"type\":\"histogram2dcontour\"}],\"mesh3d\":[{\"colorbar\":{\"outlinewidth\":0,\"ticks\":\"\"},\"type\":\"mesh3d\"}],\"parcoords\":[{\"line\":{\"colorbar\":{\"outlinewidth\":0,\"ticks\":\"\"}},\"type\":\"parcoords\"}],\"pie\":[{\"automargin\":true,\"type\":\"pie\"}],\"scatter\":[{\"marker\":{\"colorbar\":{\"outlinewidth\":0,\"ticks\":\"\"}},\"type\":\"scatter\"}],\"scatter3d\":[{\"line\":{\"colorbar\":{\"outlinewidth\":0,\"ticks\":\"\"}},\"marker\":{\"colorbar\":{\"outlinewidth\":0,\"ticks\":\"\"}},\"type\":\"scatter3d\"}],\"scattercarpet\":[{\"marker\":{\"colorbar\":{\"outlinewidth\":0,\"ticks\":\"\"}},\"type\":\"scattercarpet\"}],\"scattergeo\":[{\"marker\":{\"colorbar\":{\"outlinewidth\":0,\"ticks\":\"\"}},\"type\":\"scattergeo\"}],\"scattergl\":[{\"marker\":{\"colorbar\":{\"outlinewidth\":0,\"ticks\":\"\"}},\"type\":\"scattergl\"}],\"scattermapbox\":[{\"marker\":{\"colorbar\":{\"outlinewidth\":0,\"ticks\":\"\"}},\"type\":\"scattermapbox\"}],\"scatterpolar\":[{\"marker\":{\"colorbar\":{\"outlinewidth\":0,\"ticks\":\"\"}},\"type\":\"scatterpolar\"}],\"scatterpolargl\":[{\"marker\":{\"colorbar\":{\"outlinewidth\":0,\"ticks\":\"\"}},\"type\":\"scatterpolargl\"}],\"scatterternary\":[{\"marker\":{\"colorbar\":{\"outlinewidth\":0,\"ticks\":\"\"}},\"type\":\"scatterternary\"}],\"surface\":[{\"colorbar\":{\"outlinewidth\":0,\"ticks\":\"\"},\"colorscale\":[[0.0,\"#0d0887\"],[0.1111111111111111,\"#46039f\"],[0.2222222222222222,\"#7201a8\"],[0.3333333333333333,\"#9c179e\"],[0.4444444444444444,\"#bd3786\"],[0.5555555555555556,\"#d8576b\"],[0.6666666666666666,\"#ed7953\"],[0.7777777777777778,\"#fb9f3a\"],[0.8888888888888888,\"#fdca26\"],[1.0,\"#f0f921\"]],\"type\":\"surface\"}],\"table\":[{\"cells\":{\"fill\":{\"color\":\"#EBF0F8\"},\"line\":{\"color\":\"white\"}},\"header\":{\"fill\":{\"color\":\"#C8D4E3\"},\"line\":{\"color\":\"white\"}},\"type\":\"table\"}]},\"layout\":{\"annotationdefaults\":{\"arrowcolor\":\"#2a3f5f\",\"arrowhead\":0,\"arrowwidth\":1},\"autotypenumbers\":\"strict\",\"coloraxis\":{\"colorbar\":{\"outlinewidth\":0,\"ticks\":\"\"}},\"colorscale\":{\"diverging\":[[0,\"#8e0152\"],[0.1,\"#c51b7d\"],[0.2,\"#de77ae\"],[0.3,\"#f1b6da\"],[0.4,\"#fde0ef\"],[0.5,\"#f7f7f7\"],[0.6,\"#e6f5d0\"],[0.7,\"#b8e186\"],[0.8,\"#7fbc41\"],[0.9,\"#4d9221\"],[1,\"#276419\"]],\"sequential\":[[0.0,\"#0d0887\"],[0.1111111111111111,\"#46039f\"],[0.2222222222222222,\"#7201a8\"],[0.3333333333333333,\"#9c179e\"],[0.4444444444444444,\"#bd3786\"],[0.5555555555555556,\"#d8576b\"],[0.6666666666666666,\"#ed7953\"],[0.7777777777777778,\"#fb9f3a\"],[0.8888888888888888,\"#fdca26\"],[1.0,\"#f0f921\"]],\"sequentialminus\":[[0.0,\"#0d0887\"],[0.1111111111111111,\"#46039f\"],[0.2222222222222222,\"#7201a8\"],[0.3333333333333333,\"#9c179e\"],[0.4444444444444444,\"#bd3786\"],[0.5555555555555556,\"#d8576b\"],[0.6666666666666666,\"#ed7953\"],[0.7777777777777778,\"#fb9f3a\"],[0.8888888888888888,\"#fdca26\"],[1.0,\"#f0f921\"]]},\"colorway\":[\"#636efa\",\"#EF553B\",\"#00cc96\",\"#ab63fa\",\"#FFA15A\",\"#19d3f3\",\"#FF6692\",\"#B6E880\",\"#FF97FF\",\"#FECB52\"],\"font\":{\"color\":\"#2a3f5f\"},\"geo\":{\"bgcolor\":\"white\",\"lakecolor\":\"white\",\"landcolor\":\"#E5ECF6\",\"showlakes\":true,\"showland\":true,\"subunitcolor\":\"white\"},\"hoverlabel\":{\"align\":\"left\"},\"hovermode\":\"closest\",\"mapbox\":{\"style\":\"light\"},\"paper_bgcolor\":\"white\",\"plot_bgcolor\":\"#E5ECF6\",\"polar\":{\"angularaxis\":{\"gridcolor\":\"white\",\"linecolor\":\"white\",\"ticks\":\"\"},\"bgcolor\":\"#E5ECF6\",\"radialaxis\":{\"gridcolor\":\"white\",\"linecolor\":\"white\",\"ticks\":\"\"}},\"scene\":{\"xaxis\":{\"backgroundcolor\":\"#E5ECF6\",\"gridcolor\":\"white\",\"gridwidth\":2,\"linecolor\":\"white\",\"showbackground\":true,\"ticks\":\"\",\"zerolinecolor\":\"white\"},\"yaxis\":{\"backgroundcolor\":\"#E5ECF6\",\"gridcolor\":\"white\",\"gridwidth\":2,\"linecolor\":\"white\",\"showbackground\":true,\"ticks\":\"\",\"zerolinecolor\":\"white\"},\"zaxis\":{\"backgroundcolor\":\"#E5ECF6\",\"gridcolor\":\"white\",\"gridwidth\":2,\"linecolor\":\"white\",\"showbackground\":true,\"ticks\":\"\",\"zerolinecolor\":\"white\"}},\"shapedefaults\":{\"line\":{\"color\":\"#2a3f5f\"}},\"ternary\":{\"aaxis\":{\"gridcolor\":\"white\",\"linecolor\":\"white\",\"ticks\":\"\"},\"baxis\":{\"gridcolor\":\"white\",\"linecolor\":\"white\",\"ticks\":\"\"},\"bgcolor\":\"#E5ECF6\",\"caxis\":{\"gridcolor\":\"white\",\"linecolor\":\"white\",\"ticks\":\"\"}},\"title\":{\"x\":0.05},\"xaxis\":{\"automargin\":true,\"gridcolor\":\"white\",\"linecolor\":\"white\",\"ticks\":\"\",\"title\":{\"standoff\":15},\"zerolinecolor\":\"white\",\"zerolinewidth\":2},\"yaxis\":{\"automargin\":true,\"gridcolor\":\"white\",\"linecolor\":\"white\",\"ticks\":\"\",\"title\":{\"standoff\":15},\"zerolinecolor\":\"white\",\"zerolinewidth\":2}}},\"xaxis\":{\"anchor\":\"y\",\"domain\":[0.0,1.0],\"scaleanchor\":\"y\",\"constrain\":\"domain\"},\"yaxis\":{\"anchor\":\"x\",\"domain\":[0.0,1.0],\"autorange\":\"reversed\",\"constrain\":\"domain\"},\"coloraxis\":{\"colorscale\":[[0.0,\"#0d0887\"],[0.1111111111111111,\"#46039f\"],[0.2222222222222222,\"#7201a8\"],[0.3333333333333333,\"#9c179e\"],[0.4444444444444444,\"#bd3786\"],[0.5555555555555556,\"#d8576b\"],[0.6666666666666666,\"#ed7953\"],[0.7777777777777778,\"#fb9f3a\"],[0.8888888888888888,\"#fdca26\"],[1.0,\"#f0f921\"]]},\"margin\":{\"t\":60}},                        {\"responsive\": true}                    ).then(function(){\n",
              "                            \n",
              "var gd = document.getElementById('e1f92eb6-1f56-4cf0-98eb-5f2bb7b6a2ad');\n",
              "var x = new MutationObserver(function (mutations, observer) {{\n",
              "        var display = window.getComputedStyle(gd).display;\n",
              "        if (!display || display === 'none') {{\n",
              "            console.log([gd, 'removed!']);\n",
              "            Plotly.purge(gd);\n",
              "            observer.disconnect();\n",
              "        }}\n",
              "}});\n",
              "\n",
              "// Listen for the removal of the full notebook cells\n",
              "var notebookContainer = gd.closest('#notebook-container');\n",
              "if (notebookContainer) {{\n",
              "    x.observe(notebookContainer, {childList: true});\n",
              "}}\n",
              "\n",
              "// Listen for the clearing of the current output cell\n",
              "var outputEl = gd.closest('.output');\n",
              "if (outputEl) {{\n",
              "    x.observe(outputEl, {childList: true});\n",
              "}}\n",
              "\n",
              "                        })                };                            </script>        </div>\n",
              "</body>\n",
              "</html>"
            ]
          },
          "metadata": {}
        }
      ]
    },
    {
      "cell_type": "code",
      "source": [
        "prc = average_precision_score(y_test, y_pred3)\n",
        "#print(\"Precision Recall Score: {0:0.2f}\" .format(prc),\"%\")\n",
        "precision, recall, _ = precision_recall_curve(y_test, y_pred3)\n",
        "\n",
        "# In matplotlib < 1.5, plt.fill_between does not have a 'step' argument\n",
        "step_kwargs = ({'step': 'post'}\n",
        "               if 'step' in signature(plt.fill_between).parameters\n",
        "               else {})\n",
        "plt.step(recall, precision, color='b', alpha=0.2, where='post')\n",
        "plt.fill_between(recall, precision, alpha=0.2, color='b', **step_kwargs)\n",
        "\n",
        "#plt.title('Precision Recall Curve for Xg Boost', fontsize = 25)\n",
        "plt.xlabel('Recall', fontsize = 15)\n",
        "plt.ylabel('Precision', fontsize =15)\n",
        "plt.ylim([0.0, 1.05])\n",
        "plt.xlim([0.0, 1.0])\n",
        "plt.title('2-class Precision-Recall curve: AP={0:0.2f}'.format(prc))"
      ],
      "metadata": {
        "colab": {
          "base_uri": "https://localhost:8080/",
          "height": 426
        },
        "id": "Hxq5bmcyc45p",
        "outputId": "19664366-ed2d-491e-89b2-83caeae539d8"
      },
      "execution_count": 60,
      "outputs": [
        {
          "output_type": "execute_result",
          "data": {
            "text/plain": [
              "Text(0.5, 1.0, '2-class Precision-Recall curve: AP=0.07')"
            ]
          },
          "metadata": {},
          "execution_count": 60
        },
        {
          "output_type": "display_data",
          "data": {
            "text/plain": [
              "<Figure size 864x432 with 1 Axes>"
            ],
            "image/png": "[encoded data removed]"
          },
          "metadata": {
            "needs_background": "light"
          }
        }
      ]
    },
    {
      "cell_type": "markdown",
      "source": [
        "**LOGISTIC REGRESSION\n",
        " CLASSIFIER**"
      ],
      "metadata": {
        "id": "rPGb0pH0cVeU"
      }
    },
    {
      "cell_type": "code",
      "source": [
        "classifiers = [\n",
        "               ['LogisticRegression :', LogisticRegression()],\n",
        "              ]\n",
        "for name,classifier in classifiers:\n",
        "    clf=classifier.fit(x_train_undersample,y_train_undersample)\n",
        "    y_pred4=classifier.predict(X_Filtered_test_2)\n",
        "    print(f'\\n {name} \\n')\n",
        "    print(f'Training Score for {name}  {clf.score(x_train_undersample,y_train_undersample) * 100:.2f}' )\n",
        "    print(f'Testing Score for {name} {clf.score(X_Filtered_test_2,y_test) * 100:.2f}' )\n",
        "    print(f'Classification report  \\n {classification_report(y_test,y_pred4)}' )\n",
        "    print(f'Confusion matrix  \\n {confusion_matrix(y_test,y_pred4)}' )\n",
        "    print(f'ROC AUC  : {roc_auc_score(y_test,y_pred4)}' )\n",
        "    Specificity4 = np.float(1/31)\n",
        "print(\"Specificity: \", Specificity4*100,\"%\")\n",
        "px.imshow(confusion_matrix(y_test, y_pred4) , text_auto=True)\n",
        "   "
      ],
      "metadata": {
        "colab": {
          "base_uri": "https://localhost:8080/",
          "height": 889
        },
        "id": "LmExjFa9Z8KR",
        "outputId": "80770df2-5d7d-479d-f26f-8a54d58641fa"
      },
      "execution_count": 61,
      "outputs": [
        {
          "output_type": "stream",
          "name": "stdout",
          "text": [
            "\n",
            " LogisticRegression : \n",
            "\n",
            "Training Score for LogisticRegression :  71.23\n",
            "Testing Score for LogisticRegression : 63.48\n",
            "Classification report  \n",
            "               precision    recall  f1-score   support\n",
            "\n",
            "          -1       0.96      0.64      0.77       440\n",
            "           1       0.11      0.61      0.18        31\n",
            "\n",
            "    accuracy                           0.63       471\n",
            "   macro avg       0.53      0.62      0.47       471\n",
            "weighted avg       0.90      0.63      0.73       471\n",
            "\n",
            "Confusion matrix  \n",
            " [[280 160]\n",
            " [ 12  19]]\n",
            "ROC AUC  : 0.624633431085044\n",
            "Specificity:  3.225806451612903 %\n"
          ]
        },
        {
          "output_type": "display_data",
          "data": {
            "text/html": [
              "<html>\n",
              "<head><meta charset=\"utf-8\" /></head>\n",
              "<body>\n",
              "    <div>            <script src=\"https://cdnjs.cloudflare.com/ajax/libs/mathjax/2.7.5/MathJax.js?config=TeX-AMS-MML_SVG\"></script><script type=\"text/javascript\">if (window.MathJax) {MathJax.Hub.Config({SVG: {font: \"STIX-Web\"}});}</script>                <script type=\"text/javascript\">window.PlotlyConfig = {MathJaxConfig: 'local'};</script>\n",
              "        <script src=\"https://cdn.plot.ly/plotly-2.8.3.min.js\"></script>                <div id=\"045afb29-1641-4411-a1e1-73904d8e3e22\" class=\"plotly-graph-div\" style=\"height:525px; width:100%;\"></div>            <script type=\"text/javascript\">                                    window.PLOTLYENV=window.PLOTLYENV || {};                                    if (document.getElementById(\"045afb29-1641-4411-a1e1-73904d8e3e22\")) {                    Plotly.newPlot(                        \"045afb29-1641-4411-a1e1-73904d8e3e22\",                        [{\"coloraxis\":\"coloraxis\",\"name\":\"0\",\"texttemplate\":\"%{z}\",\"z\":[[280,160],[12,19]],\"type\":\"heatmap\",\"xaxis\":\"x\",\"yaxis\":\"y\",\"hovertemplate\":\"x: %{x}<br>y: %{y}<br>color: %{z}<extra></extra>\"}],                        {\"template\":{\"data\":{\"bar\":[{\"error_x\":{\"color\":\"#2a3f5f\"},\"error_y\":{\"color\":\"#2a3f5f\"},\"marker\":{\"line\":{\"color\":\"#E5ECF6\",\"width\":0.5},\"pattern\":{\"fillmode\":\"overlay\",\"size\":10,\"solidity\":0.2}},\"type\":\"bar\"}],\"barpolar\":[{\"marker\":{\"line\":{\"color\":\"#E5ECF6\",\"width\":0.5},\"pattern\":{\"fillmode\":\"overlay\",\"size\":10,\"solidity\":0.2}},\"type\":\"barpolar\"}],\"carpet\":[{\"aaxis\":{\"endlinecolor\":\"#2a3f5f\",\"gridcolor\":\"white\",\"linecolor\":\"white\",\"minorgridcolor\":\"white\",\"startlinecolor\":\"#2a3f5f\"},\"baxis\":{\"endlinecolor\":\"#2a3f5f\",\"gridcolor\":\"white\",\"linecolor\":\"white\",\"minorgridcolor\":\"white\",\"startlinecolor\":\"#2a3f5f\"},\"type\":\"carpet\"}],\"choropleth\":[{\"colorbar\":{\"outlinewidth\":0,\"ticks\":\"\"},\"type\":\"choropleth\"}],\"contour\":[{\"colorbar\":{\"outlinewidth\":0,\"ticks\":\"\"},\"colorscale\":[[0.0,\"#0d0887\"],[0.1111111111111111,\"#46039f\"],[0.2222222222222222,\"#7201a8\"],[0.3333333333333333,\"#9c179e\"],[0.4444444444444444,\"#bd3786\"],[0.5555555555555556,\"#d8576b\"],[0.6666666666666666,\"#ed7953\"],[0.7777777777777778,\"#fb9f3a\"],[0.8888888888888888,\"#fdca26\"],[1.0,\"#f0f921\"]],\"type\":\"contour\"}],\"contourcarpet\":[{\"colorbar\":{\"outlinewidth\":0,\"ticks\":\"\"},\"type\":\"contourcarpet\"}],\"heatmap\":[{\"colorbar\":{\"outlinewidth\":0,\"ticks\":\"\"},\"colorscale\":[[0.0,\"#0d0887\"],[0.1111111111111111,\"#46039f\"],[0.2222222222222222,\"#7201a8\"],[0.3333333333333333,\"#9c179e\"],[0.4444444444444444,\"#bd3786\"],[0.5555555555555556,\"#d8576b\"],[0.6666666666666666,\"#ed7953\"],[0.7777777777777778,\"#fb9f3a\"],[0.8888888888888888,\"#fdca26\"],[1.0,\"#f0f921\"]],\"type\":\"heatmap\"}],\"heatmapgl\":[{\"colorbar\":{\"outlinewidth\":0,\"ticks\":\"\"},\"colorscale\":[[0.0,\"#0d0887\"],[0.1111111111111111,\"#46039f\"],[0.2222222222222222,\"#7201a8\"],[0.3333333333333333,\"#9c179e\"],[0.4444444444444444,\"#bd3786\"],[0.5555555555555556,\"#d8576b\"],[0.6666666666666666,\"#ed7953\"],[0.7777777777777778,\"#fb9f3a\"],[0.8888888888888888,\"#fdca26\"],[1.0,\"#f0f921\"]],\"type\":\"heatmapgl\"}],\"histogram\":[{\"marker\":{\"pattern\":{\"fillmode\":\"overlay\",\"size\":10,\"solidity\":0.2}},\"type\":\"histogram\"}],\"histogram2d\":[{\"colorbar\":{\"outlinewidth\":0,\"ticks\":\"\"},\"colorscale\":[[0.0,\"#0d0887\"],[0.1111111111111111,\"#46039f\"],[0.2222222222222222,\"#7201a8\"],[0.3333333333333333,\"#9c179e\"],[0.4444444444444444,\"#bd3786\"],[0.5555555555555556,\"#d8576b\"],[0.6666666666666666,\"#ed7953\"],[0.7777777777777778,\"#fb9f3a\"],[0.8888888888888888,\"#fdca26\"],[1.0,\"#f0f921\"]],\"type\":\"histogram2d\"}],\"histogram2dcontour\":[{\"colorbar\":{\"outlinewidth\":0,\"ticks\":\"\"},\"colorscale\":[[0.0,\"#0d0887\"],[0.1111111111111111,\"#46039f\"],[0.2222222222222222,\"#7201a8\"],[0.3333333333333333,\"#9c179e\"],[0.4444444444444444,\"#bd3786\"],[0.5555555555555556,\"#d8576b\"],[0.6666666666666666,\"#ed7953\"],[0.7777777777777778,\"#fb9f3a\"],[0.8888888888888888,\"#fdca26\"],[1.0,\"#f0f921\"]],\"type\":\"histogram2dcontour\"}],\"mesh3d\":[{\"colorbar\":{\"outlinewidth\":0,\"ticks\":\"\"},\"type\":\"mesh3d\"}],\"parcoords\":[{\"line\":{\"colorbar\":{\"outlinewidth\":0,\"ticks\":\"\"}},\"type\":\"parcoords\"}],\"pie\":[{\"automargin\":true,\"type\":\"pie\"}],\"scatter\":[{\"marker\":{\"colorbar\":{\"outlinewidth\":0,\"ticks\":\"\"}},\"type\":\"scatter\"}],\"scatter3d\":[{\"line\":{\"colorbar\":{\"outlinewidth\":0,\"ticks\":\"\"}},\"marker\":{\"colorbar\":{\"outlinewidth\":0,\"ticks\":\"\"}},\"type\":\"scatter3d\"}],\"scattercarpet\":[{\"marker\":{\"colorbar\":{\"outlinewidth\":0,\"ticks\":\"\"}},\"type\":\"scattercarpet\"}],\"scattergeo\":[{\"marker\":{\"colorbar\":{\"outlinewidth\":0,\"ticks\":\"\"}},\"type\":\"scattergeo\"}],\"scattergl\":[{\"marker\":{\"colorbar\":{\"outlinewidth\":0,\"ticks\":\"\"}},\"type\":\"scattergl\"}],\"scattermapbox\":[{\"marker\":{\"colorbar\":{\"outlinewidth\":0,\"ticks\":\"\"}},\"type\":\"scattermapbox\"}],\"scatterpolar\":[{\"marker\":{\"colorbar\":{\"outlinewidth\":0,\"ticks\":\"\"}},\"type\":\"scatterpolar\"}],\"scatterpolargl\":[{\"marker\":{\"colorbar\":{\"outlinewidth\":0,\"ticks\":\"\"}},\"type\":\"scatterpolargl\"}],\"scatterternary\":[{\"marker\":{\"colorbar\":{\"outlinewidth\":0,\"ticks\":\"\"}},\"type\":\"scatterternary\"}],\"surface\":[{\"colorbar\":{\"outlinewidth\":0,\"ticks\":\"\"},\"colorscale\":[[0.0,\"#0d0887\"],[0.1111111111111111,\"#46039f\"],[0.2222222222222222,\"#7201a8\"],[0.3333333333333333,\"#9c179e\"],[0.4444444444444444,\"#bd3786\"],[0.5555555555555556,\"#d8576b\"],[0.6666666666666666,\"#ed7953\"],[0.7777777777777778,\"#fb9f3a\"],[0.8888888888888888,\"#fdca26\"],[1.0,\"#f0f921\"]],\"type\":\"surface\"}],\"table\":[{\"cells\":{\"fill\":{\"color\":\"#EBF0F8\"},\"line\":{\"color\":\"white\"}},\"header\":{\"fill\":{\"color\":\"#C8D4E3\"},\"line\":{\"color\":\"white\"}},\"type\":\"table\"}]},\"layout\":{\"annotationdefaults\":{\"arrowcolor\":\"#2a3f5f\",\"arrowhead\":0,\"arrowwidth\":1},\"autotypenumbers\":\"strict\",\"coloraxis\":{\"colorbar\":{\"outlinewidth\":0,\"ticks\":\"\"}},\"colorscale\":{\"diverging\":[[0,\"#8e0152\"],[0.1,\"#c51b7d\"],[0.2,\"#de77ae\"],[0.3,\"#f1b6da\"],[0.4,\"#fde0ef\"],[0.5,\"#f7f7f7\"],[0.6,\"#e6f5d0\"],[0.7,\"#b8e186\"],[0.8,\"#7fbc41\"],[0.9,\"#4d9221\"],[1,\"#276419\"]],\"sequential\":[[0.0,\"#0d0887\"],[0.1111111111111111,\"#46039f\"],[0.2222222222222222,\"#7201a8\"],[0.3333333333333333,\"#9c179e\"],[0.4444444444444444,\"#bd3786\"],[0.5555555555555556,\"#d8576b\"],[0.6666666666666666,\"#ed7953\"],[0.7777777777777778,\"#fb9f3a\"],[0.8888888888888888,\"#fdca26\"],[1.0,\"#f0f921\"]],\"sequentialminus\":[[0.0,\"#0d0887\"],[0.1111111111111111,\"#46039f\"],[0.2222222222222222,\"#7201a8\"],[0.3333333333333333,\"#9c179e\"],[0.4444444444444444,\"#bd3786\"],[0.5555555555555556,\"#d8576b\"],[0.6666666666666666,\"#ed7953\"],[0.7777777777777778,\"#fb9f3a\"],[0.8888888888888888,\"#fdca26\"],[1.0,\"#f0f921\"]]},\"colorway\":[\"#636efa\",\"#EF553B\",\"#00cc96\",\"#ab63fa\",\"#FFA15A\",\"#19d3f3\",\"#FF6692\",\"#B6E880\",\"#FF97FF\",\"#FECB52\"],\"font\":{\"color\":\"#2a3f5f\"},\"geo\":{\"bgcolor\":\"white\",\"lakecolor\":\"white\",\"landcolor\":\"#E5ECF6\",\"showlakes\":true,\"showland\":true,\"subunitcolor\":\"white\"},\"hoverlabel\":{\"align\":\"left\"},\"hovermode\":\"closest\",\"mapbox\":{\"style\":\"light\"},\"paper_bgcolor\":\"white\",\"plot_bgcolor\":\"#E5ECF6\",\"polar\":{\"angularaxis\":{\"gridcolor\":\"white\",\"linecolor\":\"white\",\"ticks\":\"\"},\"bgcolor\":\"#E5ECF6\",\"radialaxis\":{\"gridcolor\":\"white\",\"linecolor\":\"white\",\"ticks\":\"\"}},\"scene\":{\"xaxis\":{\"backgroundcolor\":\"#E5ECF6\",\"gridcolor\":\"white\",\"gridwidth\":2,\"linecolor\":\"white\",\"showbackground\":true,\"ticks\":\"\",\"zerolinecolor\":\"white\"},\"yaxis\":{\"backgroundcolor\":\"#E5ECF6\",\"gridcolor\":\"white\",\"gridwidth\":2,\"linecolor\":\"white\",\"showbackground\":true,\"ticks\":\"\",\"zerolinecolor\":\"white\"},\"zaxis\":{\"backgroundcolor\":\"#E5ECF6\",\"gridcolor\":\"white\",\"gridwidth\":2,\"linecolor\":\"white\",\"showbackground\":true,\"ticks\":\"\",\"zerolinecolor\":\"white\"}},\"shapedefaults\":{\"line\":{\"color\":\"#2a3f5f\"}},\"ternary\":{\"aaxis\":{\"gridcolor\":\"white\",\"linecolor\":\"white\",\"ticks\":\"\"},\"baxis\":{\"gridcolor\":\"white\",\"linecolor\":\"white\",\"ticks\":\"\"},\"bgcolor\":\"#E5ECF6\",\"caxis\":{\"gridcolor\":\"white\",\"linecolor\":\"white\",\"ticks\":\"\"}},\"title\":{\"x\":0.05},\"xaxis\":{\"automargin\":true,\"gridcolor\":\"white\",\"linecolor\":\"white\",\"ticks\":\"\",\"title\":{\"standoff\":15},\"zerolinecolor\":\"white\",\"zerolinewidth\":2},\"yaxis\":{\"automargin\":true,\"gridcolor\":\"white\",\"linecolor\":\"white\",\"ticks\":\"\",\"title\":{\"standoff\":15},\"zerolinecolor\":\"white\",\"zerolinewidth\":2}}},\"xaxis\":{\"anchor\":\"y\",\"domain\":[0.0,1.0],\"scaleanchor\":\"y\",\"constrain\":\"domain\"},\"yaxis\":{\"anchor\":\"x\",\"domain\":[0.0,1.0],\"autorange\":\"reversed\",\"constrain\":\"domain\"},\"coloraxis\":{\"colorscale\":[[0.0,\"#0d0887\"],[0.1111111111111111,\"#46039f\"],[0.2222222222222222,\"#7201a8\"],[0.3333333333333333,\"#9c179e\"],[0.4444444444444444,\"#bd3786\"],[0.5555555555555556,\"#d8576b\"],[0.6666666666666666,\"#ed7953\"],[0.7777777777777778,\"#fb9f3a\"],[0.8888888888888888,\"#fdca26\"],[1.0,\"#f0f921\"]]},\"margin\":{\"t\":60}},                        {\"responsive\": true}                    ).then(function(){\n",
              "                            \n",
              "var gd = document.getElementById('045afb29-1641-4411-a1e1-73904d8e3e22');\n",
              "var x = new MutationObserver(function (mutations, observer) {{\n",
              "        var display = window.getComputedStyle(gd).display;\n",
              "        if (!display || display === 'none') {{\n",
              "            console.log([gd, 'removed!']);\n",
              "            Plotly.purge(gd);\n",
              "            observer.disconnect();\n",
              "        }}\n",
              "}});\n",
              "\n",
              "// Listen for the removal of the full notebook cells\n",
              "var notebookContainer = gd.closest('#notebook-container');\n",
              "if (notebookContainer) {{\n",
              "    x.observe(notebookContainer, {childList: true});\n",
              "}}\n",
              "\n",
              "// Listen for the clearing of the current output cell\n",
              "var outputEl = gd.closest('.output');\n",
              "if (outputEl) {{\n",
              "    x.observe(outputEl, {childList: true});\n",
              "}}\n",
              "\n",
              "                        })                };                            </script>        </div>\n",
              "</body>\n",
              "</html>"
            ]
          },
          "metadata": {}
        }
      ]
    },
    {
      "cell_type": "code",
      "source": [
        "prc = average_precision_score(y_test, y_pred4)\n",
        "#print(\"Precision Recall Score: {0:0.2f}\" .format(prc),\"%\")\n",
        "precision, recall, _ = precision_recall_curve(y_test, y_pred4)\n",
        "\n",
        "# In matplotlib < 1.5, plt.fill_between does not have a 'step' argument\n",
        "step_kwargs = ({'step': 'post'}\n",
        "               if 'step' in signature(plt.fill_between).parameters\n",
        "               else {})\n",
        "plt.step(recall, precision, color='b', alpha=0.2, where='post')\n",
        "plt.fill_between(recall, precision, alpha=0.2, color='b', **step_kwargs)\n",
        "\n",
        "#plt.title('Precision Recall Curve for Xg Boost', fontsize = 25)\n",
        "plt.xlabel('Recall', fontsize = 15)\n",
        "plt.ylabel('Precision', fontsize =15)\n",
        "plt.ylim([0.0, 1.05])\n",
        "plt.xlim([0.0, 1.0])\n",
        "plt.title('2-class Precision-Recall curve: AP={0:0.2f}'.format(prc))"
      ],
      "metadata": {
        "colab": {
          "base_uri": "https://localhost:8080/",
          "height": 426
        },
        "id": "tlmR9p4sdQAQ",
        "outputId": "4dbd084d-c129-44a1-a01e-6b2b19009aa6"
      },
      "execution_count": 62,
      "outputs": [
        {
          "output_type": "execute_result",
          "data": {
            "text/plain": [
              "Text(0.5, 1.0, '2-class Precision-Recall curve: AP=0.09')"
            ]
          },
          "metadata": {},
          "execution_count": 62
        },
        {
          "output_type": "display_data",
          "data": {
            "text/plain": [
              "<Figure size 864x432 with 1 Axes>"
            ],
            "image/png": "[encoded data removed]"
          },
          "metadata": {
            "needs_background": "light"
          }
        }
      ]
    },
    {
      "cell_type": "markdown",
      "source": [
        ""
      ],
      "metadata": {
        "id": "EWH-Q1nPdfdE"
      }
    },
    {
      "cell_type": "markdown",
      "source": [
        "**DECISION TREE CLASSIFIER**"
      ],
      "metadata": {
        "id": "9FdPiRwrdf3A"
      }
    },
    {
      "cell_type": "code",
      "source": [
        "classifiers = [\n",
        "               ['DecisionTree :',DecisionTreeClassifier()],\n",
        "              ]\n",
        "\n",
        "for name,classifier in classifiers:\n",
        "    clf=classifier.fit(x_train_undersample,y_train_undersample)\n",
        "    y_pred5=classifier.predict(X_Filtered_test_2)\n",
        "    print(f'\\n {name} \\n')\n",
        "    print(f'Training Score for {name}  {clf.score(x_train_undersample,y_train_undersample) * 100:.2f}' )\n",
        "    print(f'Testing Score for {name} {clf.score(X_Filtered_test_2,y_test) * 100:.2f}' )\n",
        "    print(f'Classification report  \\n {classification_report(y_test,y_pred5)}' )\n",
        "    print(f'Confusion matrix  \\n {confusion_matrix(y_test,y_pred5)}' )\n",
        "    print(f'ROC AUC  : {roc_auc_score(y_test,y_pred5)}' )\n",
        "    Specificity5 = np.float(22/31)\n",
        "print(\"Specificity: \", Specificity5*100,\"%\")\n",
        "px.imshow(confusion_matrix(y_test, y_pred5) , text_auto=True)\n",
        "   # cm = confusion_matrix(y_test, y_pred)\n",
        "    #print_confusion_matrix(cm,[\"Not Faulty\",\"Faulty\"])\n"
      ],
      "metadata": {
        "id": "zPJy9DLbaA-l"
      },
      "execution_count": null,
      "outputs": []
    },
    {
      "cell_type": "code",
      "source": [
        "prc = average_precision_score(y_test, y_pred5)\n",
        "#print(\"Precision Recall Score: {0:0.2f}\" .format(prc),\"%\")\n",
        "precision, recall, _ = precision_recall_curve(y_test, y_pred5)\n",
        "\n",
        "# In matplotlib < 1.5, plt.fill_between does not have a 'step' argument\n",
        "step_kwargs = ({'step': 'post'}\n",
        "               if 'step' in signature(plt.fill_between).parameters\n",
        "               else {})\n",
        "plt.step(recall, precision, color='b', alpha=0.2, where='post')\n",
        "plt.fill_between(recall, precision, alpha=0.2, color='b', **step_kwargs)\n",
        "\n",
        "#plt.title('Precision Recall Curve for Xg Boost', fontsize = 25)\n",
        "plt.xlabel('Recall', fontsize = 15)\n",
        "plt.ylabel('Precision', fontsize =15)\n",
        "plt.ylim([0.0, 1.05])\n",
        "plt.xlim([0.0, 1.0])\n",
        "plt.title('2-class Precision-Recall curve: AP={0:0.2f}'.format(prc))"
      ],
      "metadata": {
        "colab": {
          "base_uri": "https://localhost:8080/",
          "height": 426
        },
        "id": "Om7OqeXHd_bI",
        "outputId": "06e1c36e-32b3-4e3a-8c9e-805278d823d8"
      },
      "execution_count": 65,
      "outputs": [
        {
          "output_type": "execute_result",
          "data": {
            "text/plain": [
              "Text(0.5, 1.0, '2-class Precision-Recall curve: AP=0.10')"
            ]
          },
          "metadata": {},
          "execution_count": 65
        },
        {
          "output_type": "display_data",
          "data": {
            "text/plain": [
              "<Figure size 864x432 with 1 Axes>"
            ],
            "image/png": "[encoded data removed]"
          },
          "metadata": {
            "needs_background": "light"
          }
        }
      ]
    },
    {
      "cell_type": "markdown",
      "source": [
        "**RANDOMFOREST CLASSIFIER**"
      ],
      "metadata": {
        "id": "KOXIeq6yeGkY"
      }
    },
    {
      "cell_type": "code",
      "source": [
        "classifiers = [\n",
        "               ['RandomForest :',RandomForestClassifier()]]\n",
        "\n",
        "for name,classifier in classifiers:\n",
        "    clf=classifier.fit(x_train_undersample,y_train_undersample)\n",
        "    y_pred6=classifier.predict(X_Filtered_test_2)\n",
        "    print(f'\\n {name} \\n')\n",
        "    print(f'Training Score for {name}  {clf.score(x_train_undersample,y_train_undersample) * 100:.2f}' )\n",
        "    print(f'Testing Score for {name} {clf.score(X_Filtered_test_2,y_test) * 100:.2f}' )\n",
        "    print(f'Classification report  \\n {classification_report(y_test,y_pred6)}' )\n",
        "    print(f'Confusion matrix  \\n {confusion_matrix(y_test,y_pred6)}' )\n",
        "    print(f'ROC AUC  : {roc_auc_score(y_test,y_pred6)}' )\n",
        "    Specificity6 = np.float(20/31)\n",
        "print(\"Specificity: \", Specificity6*100,\"%\")\n",
        "px.imshow(confusion_matrix(y_test, y_pred6) , text_auto=True)\n",
        "   # cm = confusion_matrix(y_test, y_pred)\n",
        "    #print_confusion_matrix(cm,[\"Not Faulty\",\"Faulty\"])"
      ],
      "metadata": {
        "colab": {
          "base_uri": "https://localhost:8080/",
          "height": 889
        },
        "id": "8gdjDXluaGV1",
        "outputId": "cb06ebdc-b790-47b0-ae11-06a4c277e7ed"
      },
      "execution_count": 66,
      "outputs": [
        {
          "output_type": "stream",
          "name": "stdout",
          "text": [
            "\n",
            " RandomForest : \n",
            "\n",
            "Training Score for RandomForest :  100.00\n",
            "Testing Score for RandomForest : 61.15\n",
            "Classification report  \n",
            "               precision    recall  f1-score   support\n",
            "\n",
            "          -1       0.96      0.61      0.74       440\n",
            "           1       0.11      0.68      0.19        31\n",
            "\n",
            "    accuracy                           0.61       471\n",
            "   macro avg       0.54      0.64      0.47       471\n",
            "weighted avg       0.91      0.61      0.71       471\n",
            "\n",
            "Confusion matrix  \n",
            " [[267 173]\n",
            " [ 10  21]]\n",
            "ROC AUC  : 0.6421187683284457\n",
            "Specificity:  64.51612903225806 %\n"
          ]
        },
        {
          "output_type": "display_data",
          "data": {
            "text/html": [
              "<html>\n",
              "<head><meta charset=\"utf-8\" /></head>\n",
              "<body>\n",
              "    <div>            <script src=\"https://cdnjs.cloudflare.com/ajax/libs/mathjax/2.7.5/MathJax.js?config=TeX-AMS-MML_SVG\"></script><script type=\"text/javascript\">if (window.MathJax) {MathJax.Hub.Config({SVG: {font: \"STIX-Web\"}});}</script>                <script type=\"text/javascript\">window.PlotlyConfig = {MathJaxConfig: 'local'};</script>\n",
              "        <script src=\"https://cdn.plot.ly/plotly-2.8.3.min.js\"></script>                <div id=\"e6dde07c-04f8-4241-81b1-32fd68c11834\" class=\"plotly-graph-div\" style=\"height:525px; width:100%;\"></div>            <script type=\"text/javascript\">                                    window.PLOTLYENV=window.PLOTLYENV || {};                                    if (document.getElementById(\"e6dde07c-04f8-4241-81b1-32fd68c11834\")) {                    Plotly.newPlot(                        \"e6dde07c-04f8-4241-81b1-32fd68c11834\",                        [{\"coloraxis\":\"coloraxis\",\"name\":\"0\",\"texttemplate\":\"%{z}\",\"z\":[[267,173],[10,21]],\"type\":\"heatmap\",\"xaxis\":\"x\",\"yaxis\":\"y\",\"hovertemplate\":\"x: %{x}<br>y: %{y}<br>color: %{z}<extra></extra>\"}],                        {\"template\":{\"data\":{\"bar\":[{\"error_x\":{\"color\":\"#2a3f5f\"},\"error_y\":{\"color\":\"#2a3f5f\"},\"marker\":{\"line\":{\"color\":\"#E5ECF6\",\"width\":0.5},\"pattern\":{\"fillmode\":\"overlay\",\"size\":10,\"solidity\":0.2}},\"type\":\"bar\"}],\"barpolar\":[{\"marker\":{\"line\":{\"color\":\"#E5ECF6\",\"width\":0.5},\"pattern\":{\"fillmode\":\"overlay\",\"size\":10,\"solidity\":0.2}},\"type\":\"barpolar\"}],\"carpet\":[{\"aaxis\":{\"endlinecolor\":\"#2a3f5f\",\"gridcolor\":\"white\",\"linecolor\":\"white\",\"minorgridcolor\":\"white\",\"startlinecolor\":\"#2a3f5f\"},\"baxis\":{\"endlinecolor\":\"#2a3f5f\",\"gridcolor\":\"white\",\"linecolor\":\"white\",\"minorgridcolor\":\"white\",\"startlinecolor\":\"#2a3f5f\"},\"type\":\"carpet\"}],\"choropleth\":[{\"colorbar\":{\"outlinewidth\":0,\"ticks\":\"\"},\"type\":\"choropleth\"}],\"contour\":[{\"colorbar\":{\"outlinewidth\":0,\"ticks\":\"\"},\"colorscale\":[[0.0,\"#0d0887\"],[0.1111111111111111,\"#46039f\"],[0.2222222222222222,\"#7201a8\"],[0.3333333333333333,\"#9c179e\"],[0.4444444444444444,\"#bd3786\"],[0.5555555555555556,\"#d8576b\"],[0.6666666666666666,\"#ed7953\"],[0.7777777777777778,\"#fb9f3a\"],[0.8888888888888888,\"#fdca26\"],[1.0,\"#f0f921\"]],\"type\":\"contour\"}],\"contourcarpet\":[{\"colorbar\":{\"outlinewidth\":0,\"ticks\":\"\"},\"type\":\"contourcarpet\"}],\"heatmap\":[{\"colorbar\":{\"outlinewidth\":0,\"ticks\":\"\"},\"colorscale\":[[0.0,\"#0d0887\"],[0.1111111111111111,\"#46039f\"],[0.2222222222222222,\"#7201a8\"],[0.3333333333333333,\"#9c179e\"],[0.4444444444444444,\"#bd3786\"],[0.5555555555555556,\"#d8576b\"],[0.6666666666666666,\"#ed7953\"],[0.7777777777777778,\"#fb9f3a\"],[0.8888888888888888,\"#fdca26\"],[1.0,\"#f0f921\"]],\"type\":\"heatmap\"}],\"heatmapgl\":[{\"colorbar\":{\"outlinewidth\":0,\"ticks\":\"\"},\"colorscale\":[[0.0,\"#0d0887\"],[0.1111111111111111,\"#46039f\"],[0.2222222222222222,\"#7201a8\"],[0.3333333333333333,\"#9c179e\"],[0.4444444444444444,\"#bd3786\"],[0.5555555555555556,\"#d8576b\"],[0.6666666666666666,\"#ed7953\"],[0.7777777777777778,\"#fb9f3a\"],[0.8888888888888888,\"#fdca26\"],[1.0,\"#f0f921\"]],\"type\":\"heatmapgl\"}],\"histogram\":[{\"marker\":{\"pattern\":{\"fillmode\":\"overlay\",\"size\":10,\"solidity\":0.2}},\"type\":\"histogram\"}],\"histogram2d\":[{\"colorbar\":{\"outlinewidth\":0,\"ticks\":\"\"},\"colorscale\":[[0.0,\"#0d0887\"],[0.1111111111111111,\"#46039f\"],[0.2222222222222222,\"#7201a8\"],[0.3333333333333333,\"#9c179e\"],[0.4444444444444444,\"#bd3786\"],[0.5555555555555556,\"#d8576b\"],[0.6666666666666666,\"#ed7953\"],[0.7777777777777778,\"#fb9f3a\"],[0.8888888888888888,\"#fdca26\"],[1.0,\"#f0f921\"]],\"type\":\"histogram2d\"}],\"histogram2dcontour\":[{\"colorbar\":{\"outlinewidth\":0,\"ticks\":\"\"},\"colorscale\":[[0.0,\"#0d0887\"],[0.1111111111111111,\"#46039f\"],[0.2222222222222222,\"#7201a8\"],[0.3333333333333333,\"#9c179e\"],[0.4444444444444444,\"#bd3786\"],[0.5555555555555556,\"#d8576b\"],[0.6666666666666666,\"#ed7953\"],[0.7777777777777778,\"#fb9f3a\"],[0.8888888888888888,\"#fdca26\"],[1.0,\"#f0f921\"]],\"type\":\"histogram2dcontour\"}],\"mesh3d\":[{\"colorbar\":{\"outlinewidth\":0,\"ticks\":\"\"},\"type\":\"mesh3d\"}],\"parcoords\":[{\"line\":{\"colorbar\":{\"outlinewidth\":0,\"ticks\":\"\"}},\"type\":\"parcoords\"}],\"pie\":[{\"automargin\":true,\"type\":\"pie\"}],\"scatter\":[{\"marker\":{\"colorbar\":{\"outlinewidth\":0,\"ticks\":\"\"}},\"type\":\"scatter\"}],\"scatter3d\":[{\"line\":{\"colorbar\":{\"outlinewidth\":0,\"ticks\":\"\"}},\"marker\":{\"colorbar\":{\"outlinewidth\":0,\"ticks\":\"\"}},\"type\":\"scatter3d\"}],\"scattercarpet\":[{\"marker\":{\"colorbar\":{\"outlinewidth\":0,\"ticks\":\"\"}},\"type\":\"scattercarpet\"}],\"scattergeo\":[{\"marker\":{\"colorbar\":{\"outlinewidth\":0,\"ticks\":\"\"}},\"type\":\"scattergeo\"}],\"scattergl\":[{\"marker\":{\"colorbar\":{\"outlinewidth\":0,\"ticks\":\"\"}},\"type\":\"scattergl\"}],\"scattermapbox\":[{\"marker\":{\"colorbar\":{\"outlinewidth\":0,\"ticks\":\"\"}},\"type\":\"scattermapbox\"}],\"scatterpolar\":[{\"marker\":{\"colorbar\":{\"outlinewidth\":0,\"ticks\":\"\"}},\"type\":\"scatterpolar\"}],\"scatterpolargl\":[{\"marker\":{\"colorbar\":{\"outlinewidth\":0,\"ticks\":\"\"}},\"type\":\"scatterpolargl\"}],\"scatterternary\":[{\"marker\":{\"colorbar\":{\"outlinewidth\":0,\"ticks\":\"\"}},\"type\":\"scatterternary\"}],\"surface\":[{\"colorbar\":{\"outlinewidth\":0,\"ticks\":\"\"},\"colorscale\":[[0.0,\"#0d0887\"],[0.1111111111111111,\"#46039f\"],[0.2222222222222222,\"#7201a8\"],[0.3333333333333333,\"#9c179e\"],[0.4444444444444444,\"#bd3786\"],[0.5555555555555556,\"#d8576b\"],[0.6666666666666666,\"#ed7953\"],[0.7777777777777778,\"#fb9f3a\"],[0.8888888888888888,\"#fdca26\"],[1.0,\"#f0f921\"]],\"type\":\"surface\"}],\"table\":[{\"cells\":{\"fill\":{\"color\":\"#EBF0F8\"},\"line\":{\"color\":\"white\"}},\"header\":{\"fill\":{\"color\":\"#C8D4E3\"},\"line\":{\"color\":\"white\"}},\"type\":\"table\"}]},\"layout\":{\"annotationdefaults\":{\"arrowcolor\":\"#2a3f5f\",\"arrowhead\":0,\"arrowwidth\":1},\"autotypenumbers\":\"strict\",\"coloraxis\":{\"colorbar\":{\"outlinewidth\":0,\"ticks\":\"\"}},\"colorscale\":{\"diverging\":[[0,\"#8e0152\"],[0.1,\"#c51b7d\"],[0.2,\"#de77ae\"],[0.3,\"#f1b6da\"],[0.4,\"#fde0ef\"],[0.5,\"#f7f7f7\"],[0.6,\"#e6f5d0\"],[0.7,\"#b8e186\"],[0.8,\"#7fbc41\"],[0.9,\"#4d9221\"],[1,\"#276419\"]],\"sequential\":[[0.0,\"#0d0887\"],[0.1111111111111111,\"#46039f\"],[0.2222222222222222,\"#7201a8\"],[0.3333333333333333,\"#9c179e\"],[0.4444444444444444,\"#bd3786\"],[0.5555555555555556,\"#d8576b\"],[0.6666666666666666,\"#ed7953\"],[0.7777777777777778,\"#fb9f3a\"],[0.8888888888888888,\"#fdca26\"],[1.0,\"#f0f921\"]],\"sequentialminus\":[[0.0,\"#0d0887\"],[0.1111111111111111,\"#46039f\"],[0.2222222222222222,\"#7201a8\"],[0.3333333333333333,\"#9c179e\"],[0.4444444444444444,\"#bd3786\"],[0.5555555555555556,\"#d8576b\"],[0.6666666666666666,\"#ed7953\"],[0.7777777777777778,\"#fb9f3a\"],[0.8888888888888888,\"#fdca26\"],[1.0,\"#f0f921\"]]},\"colorway\":[\"#636efa\",\"#EF553B\",\"#00cc96\",\"#ab63fa\",\"#FFA15A\",\"#19d3f3\",\"#FF6692\",\"#B6E880\",\"#FF97FF\",\"#FECB52\"],\"font\":{\"color\":\"#2a3f5f\"},\"geo\":{\"bgcolor\":\"white\",\"lakecolor\":\"white\",\"landcolor\":\"#E5ECF6\",\"showlakes\":true,\"showland\":true,\"subunitcolor\":\"white\"},\"hoverlabel\":{\"align\":\"left\"},\"hovermode\":\"closest\",\"mapbox\":{\"style\":\"light\"},\"paper_bgcolor\":\"white\",\"plot_bgcolor\":\"#E5ECF6\",\"polar\":{\"angularaxis\":{\"gridcolor\":\"white\",\"linecolor\":\"white\",\"ticks\":\"\"},\"bgcolor\":\"#E5ECF6\",\"radialaxis\":{\"gridcolor\":\"white\",\"linecolor\":\"white\",\"ticks\":\"\"}},\"scene\":{\"xaxis\":{\"backgroundcolor\":\"#E5ECF6\",\"gridcolor\":\"white\",\"gridwidth\":2,\"linecolor\":\"white\",\"showbackground\":true,\"ticks\":\"\",\"zerolinecolor\":\"white\"},\"yaxis\":{\"backgroundcolor\":\"#E5ECF6\",\"gridcolor\":\"white\",\"gridwidth\":2,\"linecolor\":\"white\",\"showbackground\":true,\"ticks\":\"\",\"zerolinecolor\":\"white\"},\"zaxis\":{\"backgroundcolor\":\"#E5ECF6\",\"gridcolor\":\"white\",\"gridwidth\":2,\"linecolor\":\"white\",\"showbackground\":true,\"ticks\":\"\",\"zerolinecolor\":\"white\"}},\"shapedefaults\":{\"line\":{\"color\":\"#2a3f5f\"}},\"ternary\":{\"aaxis\":{\"gridcolor\":\"white\",\"linecolor\":\"white\",\"ticks\":\"\"},\"baxis\":{\"gridcolor\":\"white\",\"linecolor\":\"white\",\"ticks\":\"\"},\"bgcolor\":\"#E5ECF6\",\"caxis\":{\"gridcolor\":\"white\",\"linecolor\":\"white\",\"ticks\":\"\"}},\"title\":{\"x\":0.05},\"xaxis\":{\"automargin\":true,\"gridcolor\":\"white\",\"linecolor\":\"white\",\"ticks\":\"\",\"title\":{\"standoff\":15},\"zerolinecolor\":\"white\",\"zerolinewidth\":2},\"yaxis\":{\"automargin\":true,\"gridcolor\":\"white\",\"linecolor\":\"white\",\"ticks\":\"\",\"title\":{\"standoff\":15},\"zerolinecolor\":\"white\",\"zerolinewidth\":2}}},\"xaxis\":{\"anchor\":\"y\",\"domain\":[0.0,1.0],\"scaleanchor\":\"y\",\"constrain\":\"domain\"},\"yaxis\":{\"anchor\":\"x\",\"domain\":[0.0,1.0],\"autorange\":\"reversed\",\"constrain\":\"domain\"},\"coloraxis\":{\"colorscale\":[[0.0,\"#0d0887\"],[0.1111111111111111,\"#46039f\"],[0.2222222222222222,\"#7201a8\"],[0.3333333333333333,\"#9c179e\"],[0.4444444444444444,\"#bd3786\"],[0.5555555555555556,\"#d8576b\"],[0.6666666666666666,\"#ed7953\"],[0.7777777777777778,\"#fb9f3a\"],[0.8888888888888888,\"#fdca26\"],[1.0,\"#f0f921\"]]},\"margin\":{\"t\":60}},                        {\"responsive\": true}                    ).then(function(){\n",
              "                            \n",
              "var gd = document.getElementById('e6dde07c-04f8-4241-81b1-32fd68c11834');\n",
              "var x = new MutationObserver(function (mutations, observer) {{\n",
              "        var display = window.getComputedStyle(gd).display;\n",
              "        if (!display || display === 'none') {{\n",
              "            console.log([gd, 'removed!']);\n",
              "            Plotly.purge(gd);\n",
              "            observer.disconnect();\n",
              "        }}\n",
              "}});\n",
              "\n",
              "// Listen for the removal of the full notebook cells\n",
              "var notebookContainer = gd.closest('#notebook-container');\n",
              "if (notebookContainer) {{\n",
              "    x.observe(notebookContainer, {childList: true});\n",
              "}}\n",
              "\n",
              "// Listen for the clearing of the current output cell\n",
              "var outputEl = gd.closest('.output');\n",
              "if (outputEl) {{\n",
              "    x.observe(outputEl, {childList: true});\n",
              "}}\n",
              "\n",
              "                        })                };                            </script>        </div>\n",
              "</body>\n",
              "</html>"
            ]
          },
          "metadata": {}
        }
      ]
    },
    {
      "cell_type": "code",
      "source": [
        "prc1 = average_precision_score(y_test, y_pred6)\n",
        "#print(\"Precision Recall Score: {0:0.2f}\" .format(prc),\"%\")\n",
        "precision, recall, _ = precision_recall_curve(y_test, y_pred6)\n",
        "\n",
        "# In matplotlib < 1.5, plt.fill_between does not have a 'step' argument\n",
        "step_kwargs = ({'step': 'post'}\n",
        "               if 'step' in signature(plt.fill_between).parameters\n",
        "               else {})\n",
        "plt.step(recall, precision, color='b', alpha=0.2, where='post')\n",
        "plt.fill_between(recall, precision, alpha=0.2, color='b', **step_kwargs)\n",
        "\n",
        "#plt.title('Precision Recall Curve for Xg Boost', fontsize = 25)\n",
        "plt.xlabel('Recall', fontsize = 15)\n",
        "plt.ylabel('Precision', fontsize =15)\n",
        "plt.ylim([0.0, 1.05])\n",
        "plt.xlim([0.0, 1.0])\n",
        "plt.title('2-class Precision-Recall curve: AP={0:0.2f}'.format(prc1))"
      ],
      "metadata": {
        "colab": {
          "base_uri": "https://localhost:8080/",
          "height": 317
        },
        "id": "gnLJmQw_d6op",
        "outputId": "b5f46c55-ee04-4163-8d35-c01ba50d9b18"
      },
      "execution_count": 42,
      "outputs": [
        {
          "output_type": "execute_result",
          "data": {
            "text/plain": [
              "Text(0.5, 1.0, '2-class Precision-Recall curve: AP=0.10')"
            ]
          },
          "metadata": {},
          "execution_count": 42
        },
        {
          "output_type": "display_data",
          "data": {
            "text/plain": [
              "<Figure size 432x288 with 1 Axes>"
            ],
            "image/png": "[encoded data removed]"
          },
          "metadata": {
            "needs_background": "light"
          }
        }
      ]
    },
    {
      "cell_type": "markdown",
      "source": [
        "ACURRACY BAR CHART"
      ],
      "metadata": {
        "id": "WVe2QHbF8kEW"
      }
    },
    {
      "cell_type": "code",
      "source": [
        "import matplotlib.pyplot as plt\n",
        "\n",
        "# data to plot\n",
        "n_groups = 6\n",
        "Train_Accuracy = (63.70, 74.66, 52.74, 65.75, 100, 100)\n",
        "Test_Accuracy = (85.35, 54.35, 6.58, 77.49, 56.90, 66.88 )\n",
        "Specificity = (42, 64.5, 100, 61, 71, 65)\n",
        "#Precision_Recall_Accuracy = (12, 8, 7, 10, 9, 12)\n",
        "\n",
        " \n",
        "# create plot\n",
        "fig, ax = plt.subplots()\n",
        "index = np.arange(n_groups)\n",
        "bar_width = 0.15\n",
        " \n",
        "rects1 = plt.bar(index, Test_Accuracy, bar_width, alpha = 0.5, color = 'blue', label = 'Test Accuracy')\n",
        "rects2 = plt.bar(index + 2*bar_width, Specificity, bar_width, alpha = 0.5, color = 'orange', label = 'Specificity')\n",
        "#rects3 = plt.bar(index + 3*bar_width, Precision_Recall_Accuracy, bar_width, alpha = 0.5 , color = 'red', label = 'Precision Recall Accuracy' )\n",
        "rects4 = plt.bar(index + bar_width, Train_Accuracy, bar_width, alpha = 0.5 , color = 'green', label = 'Train Accuracy' )\n",
        "\n",
        "plt.rcParams['figure.figsize'] = (12, 6)\n",
        "plt.xlabel('Accuracy')\n",
        "plt.ylabel('Scores in %')\n",
        "plt.title('Accuracy by different Classifiers')\n",
        "plt.xticks(index + 2*bar_width, ('NAIVE BAYES', 'KNN', 'SVM','LOG. REG.', 'DECISION TREE', 'RANDOM FOREST'))\n",
        "plt.legend()\n",
        "plt.tight_layout()\n",
        "plt.show()"
      ],
      "metadata": {
        "colab": {
          "base_uri": "https://localhost:8080/",
          "height": 441
        },
        "id": "sDRSN_HvHRJq",
        "outputId": "74477db3-a34d-4ed4-d43f-1520a887b8bd"
      },
      "execution_count": 46,
      "outputs": [
        {
          "output_type": "display_data",
          "data": {
            "text/plain": [
              "<Figure size 864x432 with 1 Axes>"
            ],
            "image/png": "[encoded data removed]"
          },
          "metadata": {
            "needs_background": "light"
          }
        }
      ]
    },
    {
      "cell_type": "code",
      "source": [
        "# defining the parameters for a pie chart\n",
        "\n",
        "labels = \"Naive Bayes\", \"KNN\", \"SVM\", \"LogReg\", \"Decision Tree\", \"Random Forest\"\n",
        "size = [85.35, 54.35, 6.58, 77.49, 56.90, 66.88]\n",
        "colors = ['pink', 'lightgreen', 'cyan', 'magenta', 'yellow', 'orange', 'lightblue', 'crimson']\n",
        "\n",
        "# Create a circle for the center of the plot\n",
        "my_circle = plt.Circle( (0,0), 0.7, color = 'white')\n",
        "\n",
        "plt.rcParams['figure.figsize'] = (10, 10)\n",
        "plt.pie(size, colors = colors, labels = labels, shadow = True, autopct = '%.2f%%')\n",
        "plt.title('Greater Area Means Greater Role in Testing Accuracy')\n",
        "p = plt.gcf()\n",
        "p.gca().add_artist(my_circle)\n",
        "#plt.legend()\n",
        "plt.show()"
      ],
      "metadata": {
        "colab": {
          "base_uri": "https://localhost:8080/",
          "height": 591
        },
        "id": "BHBrGipjIK7E",
        "outputId": "77bcaafc-959b-4b44-cf14-c1d9dec6d715"
      },
      "execution_count": 44,
      "outputs": [
        {
          "output_type": "display_data",
          "data": {
            "text/plain": [
              "<Figure size 720x720 with 1 Axes>"
            ],
            "image/png": "[encoded data removed]"
          },
          "metadata": {}
        }
      ]
    }
  ],
  "metadata": {
    "colab": {
      "name": "BORUTA_KNN_UNDERSAMPLING.ipynb",
      "provenance": [],
      "toc_visible": true,
      "collapsed_sections": [],
      "include_colab_link": true
    },
    "kernelspec": {
      "display_name": "Python 3.9.7 ('base')",
      "language": "python",
      "name": "python3"
    },
    "language_info": {
      "codemirror_mode": {
        "name": "ipython",
        "version": 3
      },
      "file_extension": ".py",
      "mimetype": "text/x-python",
      "name": "python",
      "nbconvert_exporter": "python",
      "pygments_lexer": "ipython3",
      "version": "3.9.7"
    },
    "vscode": {
      "interpreter": {
        "hash": "364be49c34f555e5dc4e2a5bead572c972738deaa840ade2ee170fdfb470b0ec"
      }
    }
  },
  "nbformat": 4,
  "nbformat_minor": 0
}