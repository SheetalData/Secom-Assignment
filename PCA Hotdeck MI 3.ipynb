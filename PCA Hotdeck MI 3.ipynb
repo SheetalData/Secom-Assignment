{
  "cells": [
    {
      "cell_type": "markdown",
      "id": "f37b1370-870f-43ad-b39d-3e7b9573bf08",
      "metadata": {
        "tags": [],
        "id": "f37b1370-870f-43ad-b39d-3e7b9573bf08"
      },
      "source": [
        "### Missing value imputation using Hotdeck imputation"
      ]
    },
    {
      "cell_type": "code",
      "execution_count": null,
      "id": "a0f2976d-d561-4876-82ab-187f720df55a",
      "metadata": {
        "id": "a0f2976d-d561-4876-82ab-187f720df55a"
      },
      "outputs": [],
      "source": [
        ""
      ]
    },
    {
      "cell_type": "code",
      "execution_count": null,
      "id": "84e2e26c-cf06-4ca5-83ee-d154a87dcc35",
      "metadata": {
        "id": "84e2e26c-cf06-4ca5-83ee-d154a87dcc35",
        "outputId": "ec82d74c-95cd-4e63-d0bb-bb4cd98b8260"
      },
      "outputs": [
        {
          "name": "stdout",
          "output_type": "stream",
          "text": [
            "      feature1  feature2   feature3   feature4  feature5  feature6  feature7  \\\n",
            "0      3030.93   2564.00  2187.7333  1411.1265    1.3602     100.0   97.6133   \n",
            "1      3095.78   2465.14  2230.4222  1463.6606    0.8294     100.0  102.3433   \n",
            "2      2932.61   2559.94  2186.4111  1698.0172    1.5102     100.0   95.4878   \n",
            "3      2988.72   2479.90  2199.0333   909.7926    1.3204     100.0  104.2367   \n",
            "4      3032.24   2502.87  2233.3667  1326.5200    1.5334     100.0  100.3967   \n",
            "...        ...       ...        ...        ...       ...       ...       ...   \n",
            "1562   2899.41   2464.36  2179.7333  3085.3781    1.4843     100.0   82.2467   \n",
            "1563   3052.31   2522.55  2198.5667  1124.6595    0.8763     100.0   98.4689   \n",
            "1564   2978.81   2379.78  2206.3000  1110.4967    0.8236     100.0   99.4122   \n",
            "1565   2894.92   2532.01  2177.0333  1183.7287    1.5726     100.0   98.7978   \n",
            "1566   2944.92   2450.76  2195.4444  2914.1792    1.5978     100.0   85.1011   \n",
            "\n",
            "      feature8  feature9  feature10  ...  feature583  feature584  feature585  \\\n",
            "0       0.1242    1.5005     0.0162  ...      0.5005      0.0118      0.0035   \n",
            "1       0.1247    1.4966    -0.0005  ...      0.5019      0.0223      0.0055   \n",
            "2       0.1241    1.4436     0.0041  ...      0.4958      0.0157      0.0039   \n",
            "3       0.1217    1.4882    -0.0124  ...      0.4990      0.0103      0.0025   \n",
            "4       0.1235    1.5031    -0.0031  ...      0.4800      0.4766      0.1045   \n",
            "...        ...       ...        ...  ...         ...         ...         ...   \n",
            "1562    0.1248    1.3424    -0.0045  ...      0.4988      0.0143      0.0039   \n",
            "1563    0.1205    1.4333    -0.0061  ...      0.4975      0.0131      0.0036   \n",
            "1564    0.1208       NaN        NaN  ...      0.4987      0.0153      0.0041   \n",
            "1565    0.1213    1.4622    -0.0072  ...      0.5004      0.0178      0.0038   \n",
            "1566    0.1235       NaN        NaN  ...      0.4987      0.0181      0.0040   \n",
            "\n",
            "      feature586  feature587  feature588  feature589  feature590  Result  \\\n",
            "0         2.3630         NaN         NaN         NaN         NaN      -1   \n",
            "1         4.4447      0.0096      0.0201      0.0060    208.2045      -1   \n",
            "2         3.1745      0.0584      0.0484      0.0148     82.8602       1   \n",
            "3         2.0544      0.0202      0.0149      0.0044     73.8432      -1   \n",
            "4        99.3032      0.0202      0.0149      0.0044     73.8432      -1   \n",
            "...          ...         ...         ...         ...         ...     ...   \n",
            "1562      2.8669      0.0068      0.0138      0.0047    203.1720      -1   \n",
            "1563      2.6238      0.0068      0.0138      0.0047    203.1720      -1   \n",
            "1564      3.0590      0.0197      0.0086      0.0025     43.5231      -1   \n",
            "1565      3.5662      0.0262      0.0245      0.0075     93.4941      -1   \n",
            "1566      3.6275      0.0117      0.0162      0.0045    137.7844      -1   \n",
            "\n",
            "                    Date  \n",
            "0    2008-07-19 11:55:00  \n",
            "1    2008-07-19 12:32:00  \n",
            "2    2008-07-19 13:17:00  \n",
            "3    2008-07-19 14:43:00  \n",
            "4    2008-07-19 15:22:00  \n",
            "...                  ...  \n",
            "1562 2008-10-16 15:13:00  \n",
            "1563 2008-10-16 20:49:00  \n",
            "1564 2008-10-17 05:26:00  \n",
            "1565 2008-10-17 06:01:00  \n",
            "1566 2008-10-17 06:07:00  \n",
            "\n",
            "[1567 rows x 592 columns]\n",
            "shape of x: (1567, 590)\n",
            "shape of y: (1567, 1)\n",
            "shape of x_train:  (1096, 590)\n",
            "shape of x_test:  (471, 590)\n",
            "shape of y_train:  (1096, 1)\n",
            "shape of y_test:  (471, 1)\n",
            "116\n"
          ]
        }
      ],
      "source": [
        "import pandas as pd\n",
        "import numpy as np\n",
        "import matplotlib.pyplot as plt\n",
        "%matplotlib inline\n",
        "from collections import Counter\n",
        "import seaborn as sns\n",
        "from pandas_profiling import ProfileReport\n",
        "import warnings\n",
        "warnings.filterwarnings(\"ignore\")\n",
        "import missingno as msno\n",
        "from sklearn import model_selection\n",
        "from sklearn.model_selection import train_test_split\n",
        "from scipy.stats import shapiro\n",
        "# imputer\n",
        "from sklearn.impute import SimpleImputer, KNNImputer\n",
        "\n",
        "\n",
        "\n",
        "\n",
        "url1 ='https://archive.ics.uci.edu/ml/machine-learning-databases/secom/secom.data'\n",
        "names = [\"feature\" + str(x) for x in range(1, 591)]\n",
        "df1 = pd.read_csv(url1,sep=\" \", names=names, na_values = \"NaN\",header=None)\n",
        "df1.head()\n",
        "\n",
        "url2 ='https://archive.ics.uci.edu/ml/machine-learning-databases/secom/secom_labels.data'\n",
        "df2 = pd.read_csv(url2,sep=\" \",names = [\"Result\",\"Date\"])\n",
        "\n",
        "#df2.columns =['Pass/Fail','Date']\n",
        "df2.head()\n",
        "\n",
        "\n",
        "\n",
        "\n",
        "#Convertion of Date into Datetime from Object(String) data types\n",
        "df2['Date'] = pd.to_datetime(df2['Date'])\n",
        "df2.dtypes\n",
        "\n",
        "\n",
        "\n",
        "#Joinig TWO df1 and df2 Dataframe naming SECOM\n",
        "Secom = pd.concat([df1,df2],axis = 1)\n",
        "print(Secom)\n",
        "\n",
        "Secom = Secom.drop(['Date'],axis=1)\n",
        "                   \n",
        "# establish target and features of the manufacturing data\n",
        "# set the target to the encoded manufacturing outcome column\n",
        "y = Secom[['Result']]\n",
        "# set the features as the rest of the dataset after dropping the features that are no\n",
        "x = Secom.drop(['Result'], axis=1)\n",
        "\n",
        "# getting the shapes of new data sets x and y\n",
        "print(\"shape of x:\", x.shape)\n",
        "print(\"shape of y:\", y.shape)\n",
        "\n",
        "#Splitting data\n",
        "\n",
        "\n",
        "x_train, x_test, y_train, y_test = train_test_split(x, y, test_size = 0.3, random_state = 1,stratify = y)\n",
        "\n",
        "\n",
        "\n",
        "# getting the counts\n",
        "print(\"shape of x_train: \", x_train.shape)\n",
        "print(\"shape of x_test: \", x_test.shape)\n",
        "print(\"shape of y_train: \", y_train.shape)\n",
        "print(\"shape of y_test: \", y_test.shape)\n",
        "\n",
        "\n",
        "\n",
        "\n",
        "#Removing features having Missing ratio more than 50%\n",
        "\n",
        "\n",
        "def percentna(dataframe, threshold):\n",
        "    columns = dataframe.columns[(dataframe.isnull().sum()/len(dataframe))>threshold]\n",
        "    return columns.tolist()\n",
        "\n",
        " \n",
        "\n",
        "na_columns = percentna(x_train, 0.5)\n",
        "len(na_columns)\n",
        "x_train_dn = x_train.drop(na_columns, axis=1)\n",
        "x_train_dn.shape\n",
        "\n",
        "\n",
        "\n",
        "\n",
        "\n",
        "#Low Variance Filter\n",
        "from sklearn.feature_selection import VarianceThreshold\n",
        "var_thres=VarianceThreshold(threshold=0)\n",
        "var_thres.fit(x_train_dn)\n",
        "\n",
        " \n",
        "\n",
        "constant_columns = [column for column in x_train_dn.columns\n",
        "                    if column not in x_train_dn.columns[var_thres.get_support()]]\n",
        "\n",
        "\n",
        "print(len(constant_columns))\n",
        "\n",
        "x_train_lv = x_train_dn.drop(constant_columns,axis=1)"
      ]
    },
    {
      "cell_type": "code",
      "execution_count": null,
      "id": "15d23ed9-7f9b-467a-8ef3-48ef009cc6af",
      "metadata": {
        "id": "15d23ed9-7f9b-467a-8ef3-48ef009cc6af"
      },
      "outputs": [],
      "source": [
        ""
      ]
    },
    {
      "cell_type": "code",
      "execution_count": null,
      "id": "ce9550b9-6202-4d2f-bb2b-3dfc0e4e0163",
      "metadata": {
        "id": "ce9550b9-6202-4d2f-bb2b-3dfc0e4e0163"
      },
      "outputs": [],
      "source": [
        "def outliers(feat):\n",
        " upper_limit = feat.mean() + 3*feat.std()\n",
        " lower_limit = feat.mean() - 3*feat.std()\n",
        "\n",
        " feat = np.where(\n",
        "    feat >upper_limit,\n",
        "    upper_limit,\n",
        "    np.where(\n",
        "       feat <lower_limit,\n",
        "        lower_limit,\n",
        "        feat ))\n",
        " return feat\n",
        "\n",
        "x_train_outliers_imputation =x_train_lv.copy()\n",
        "for column in x_train_outliers_imputation:\n",
        "  x_train_outliers_imputation[column] = outliers(x_train_outliers_imputation[column])"
      ]
    },
    {
      "cell_type": "markdown",
      "id": "6fc24cae-b5cb-4c75-8fac-6b83c4fd2788",
      "metadata": {
        "tags": [],
        "id": "6fc24cae-b5cb-4c75-8fac-6b83c4fd2788"
      },
      "source": [
        "### Missing value imputation"
      ]
    },
    {
      "cell_type": "code",
      "execution_count": null,
      "id": "f57cb789-cf27-4266-b01c-c39e6abf45fa",
      "metadata": {
        "id": "f57cb789-cf27-4266-b01c-c39e6abf45fa"
      },
      "outputs": [],
      "source": [
        ""
      ]
    },
    {
      "cell_type": "code",
      "execution_count": null,
      "id": "e30fbbe8-4195-4745-88c8-d7a54bef3f0f",
      "metadata": {
        "id": "e30fbbe8-4195-4745-88c8-d7a54bef3f0f"
      },
      "outputs": [],
      "source": [
        ""
      ]
    },
    {
      "cell_type": "code",
      "execution_count": null,
      "id": "c1ad244b-aeb0-4b8d-93c8-bcf209a02b92",
      "metadata": {
        "id": "c1ad244b-aeb0-4b8d-93c8-bcf209a02b92",
        "outputId": "4bc77f32-cc8c-468c-d25c-0c837da02487"
      },
      "outputs": [
        {
          "data": {
            "text/plain": [
              "feature520    0.001825\n",
              "feature386    0.001825\n",
              "feature248    0.001825\n",
              "feature113    0.001825\n",
              "feature1      0.000000\n",
              "                ...   \n",
              "feature162    0.000000\n",
              "feature161    0.000000\n",
              "feature160    0.000000\n",
              "feature157    0.000000\n",
              "feature590    0.000000\n",
              "Length: 450, dtype: float64"
            ]
          },
          "execution_count": 4,
          "metadata": {},
          "output_type": "execute_result"
        }
      ],
      "source": [
        "#Hot deck (LOCF - last observation carried forward )\n",
        "numColumns = x_train_outliers_imputation.select_dtypes(include=np.number).columns.tolist();\n",
        "x_train_Hot_deck1 = x_train_outliers_imputation.copy()\n",
        "x_test_Hot_deck1 = x_test.copy()\n",
        "x_train_Hot_deck1[numColumns] = x_train_Hot_deck1[numColumns].fillna(method ='ffill')\n",
        "x_test_Hot_deck1[numColumns] = x_test_Hot_deck1[numColumns].fillna(method ='ffill')\n",
        "\n",
        "#num_cols_with_na = num_cols[x_train_Hot_deck1[num_cols].isnull().mean() > 0]\n",
        "#print(f\"*** numerical columns that have NaN's ({len(num_cols_with_na)}): \\n{num_cols_with_na}\\n\\n\")\n",
        "\n",
        "\n",
        "x_train_Hot_deck1.isnull().mean().sort_values(ascending =False)\n",
        "x_test_Hot_deck1.isnull().mean().sort_values(ascending =False)"
      ]
    },
    {
      "cell_type": "markdown",
      "id": "b10c5fa8-74db-48f3-8939-7e31a1deebcc",
      "metadata": {
        "id": "b10c5fa8-74db-48f3-8939-7e31a1deebcc"
      },
      "source": [
        "## PCA"
      ]
    },
    {
      "cell_type": "code",
      "execution_count": null,
      "id": "581a5e03-0230-407e-a189-982fe7910488",
      "metadata": {
        "id": "581a5e03-0230-407e-a189-982fe7910488",
        "outputId": "07a64ae9-0920-4d80-833b-2b21f6bf02f0"
      },
      "outputs": [
        {
          "ename": "ValueError",
          "evalue": "X has 590 features, but StandardScaler is expecting 450 features as input.",
          "output_type": "error",
          "traceback": [
            "\u001b[1;31m---------------------------------------------------------------------------\u001b[0m",
            "\u001b[1;31mValueError\u001b[0m                                Traceback (most recent call last)",
            "\u001b[1;32m~\\AppData\\Local\\Temp/ipykernel_38164/2618039431.py\u001b[0m in \u001b[0;36m<module>\u001b[1;34m\u001b[0m\n\u001b[0;32m      3\u001b[0m \u001b[0msc\u001b[0m \u001b[1;33m=\u001b[0m \u001b[0mStandardScaler\u001b[0m\u001b[1;33m(\u001b[0m\u001b[1;33m)\u001b[0m\u001b[1;33m\u001b[0m\u001b[1;33m\u001b[0m\u001b[0m\n\u001b[0;32m      4\u001b[0m \u001b[0mx_train_std\u001b[0m \u001b[1;33m=\u001b[0m \u001b[0msc\u001b[0m\u001b[1;33m.\u001b[0m\u001b[0mfit_transform\u001b[0m\u001b[1;33m(\u001b[0m\u001b[0mx_train_Hot_deck1\u001b[0m\u001b[1;33m)\u001b[0m\u001b[1;33m\u001b[0m\u001b[1;33m\u001b[0m\u001b[0m\n\u001b[1;32m----> 5\u001b[1;33m \u001b[0mx_test_std\u001b[0m \u001b[1;33m=\u001b[0m \u001b[0msc\u001b[0m\u001b[1;33m.\u001b[0m\u001b[0mtransform\u001b[0m\u001b[1;33m(\u001b[0m\u001b[0mx_test\u001b[0m\u001b[1;33m)\u001b[0m\u001b[1;33m\u001b[0m\u001b[1;33m\u001b[0m\u001b[0m\n\u001b[0m\u001b[0;32m      6\u001b[0m \u001b[1;33m\u001b[0m\u001b[0m\n\u001b[0;32m      7\u001b[0m \u001b[1;33m\u001b[0m\u001b[0m\n",
            "\u001b[1;32m~\\anaconda3\\lib\\site-packages\\sklearn\\preprocessing\\_data.py\u001b[0m in \u001b[0;36mtransform\u001b[1;34m(self, X, copy)\u001b[0m\n\u001b[0;32m    881\u001b[0m \u001b[1;33m\u001b[0m\u001b[0m\n\u001b[0;32m    882\u001b[0m         \u001b[0mcopy\u001b[0m \u001b[1;33m=\u001b[0m \u001b[0mcopy\u001b[0m \u001b[1;32mif\u001b[0m \u001b[0mcopy\u001b[0m \u001b[1;32mis\u001b[0m \u001b[1;32mnot\u001b[0m \u001b[1;32mNone\u001b[0m \u001b[1;32melse\u001b[0m \u001b[0mself\u001b[0m\u001b[1;33m.\u001b[0m\u001b[0mcopy\u001b[0m\u001b[1;33m\u001b[0m\u001b[1;33m\u001b[0m\u001b[0m\n\u001b[1;32m--> 883\u001b[1;33m         X = self._validate_data(X, reset=False,\n\u001b[0m\u001b[0;32m    884\u001b[0m                                 \u001b[0maccept_sparse\u001b[0m\u001b[1;33m=\u001b[0m\u001b[1;34m'csr'\u001b[0m\u001b[1;33m,\u001b[0m \u001b[0mcopy\u001b[0m\u001b[1;33m=\u001b[0m\u001b[0mcopy\u001b[0m\u001b[1;33m,\u001b[0m\u001b[1;33m\u001b[0m\u001b[1;33m\u001b[0m\u001b[0m\n\u001b[0;32m    885\u001b[0m                                 \u001b[0mestimator\u001b[0m\u001b[1;33m=\u001b[0m\u001b[0mself\u001b[0m\u001b[1;33m,\u001b[0m \u001b[0mdtype\u001b[0m\u001b[1;33m=\u001b[0m\u001b[0mFLOAT_DTYPES\u001b[0m\u001b[1;33m,\u001b[0m\u001b[1;33m\u001b[0m\u001b[1;33m\u001b[0m\u001b[0m\n",
            "\u001b[1;32m~\\anaconda3\\lib\\site-packages\\sklearn\\base.py\u001b[0m in \u001b[0;36m_validate_data\u001b[1;34m(self, X, y, reset, validate_separately, **check_params)\u001b[0m\n\u001b[0;32m    435\u001b[0m \u001b[1;33m\u001b[0m\u001b[0m\n\u001b[0;32m    436\u001b[0m         \u001b[1;32mif\u001b[0m \u001b[0mcheck_params\u001b[0m\u001b[1;33m.\u001b[0m\u001b[0mget\u001b[0m\u001b[1;33m(\u001b[0m\u001b[1;34m'ensure_2d'\u001b[0m\u001b[1;33m,\u001b[0m \u001b[1;32mTrue\u001b[0m\u001b[1;33m)\u001b[0m\u001b[1;33m:\u001b[0m\u001b[1;33m\u001b[0m\u001b[1;33m\u001b[0m\u001b[0m\n\u001b[1;32m--> 437\u001b[1;33m             \u001b[0mself\u001b[0m\u001b[1;33m.\u001b[0m\u001b[0m_check_n_features\u001b[0m\u001b[1;33m(\u001b[0m\u001b[0mX\u001b[0m\u001b[1;33m,\u001b[0m \u001b[0mreset\u001b[0m\u001b[1;33m=\u001b[0m\u001b[0mreset\u001b[0m\u001b[1;33m)\u001b[0m\u001b[1;33m\u001b[0m\u001b[1;33m\u001b[0m\u001b[0m\n\u001b[0m\u001b[0;32m    438\u001b[0m \u001b[1;33m\u001b[0m\u001b[0m\n\u001b[0;32m    439\u001b[0m         \u001b[1;32mreturn\u001b[0m \u001b[0mout\u001b[0m\u001b[1;33m\u001b[0m\u001b[1;33m\u001b[0m\u001b[0m\n",
            "\u001b[1;32m~\\anaconda3\\lib\\site-packages\\sklearn\\base.py\u001b[0m in \u001b[0;36m_check_n_features\u001b[1;34m(self, X, reset)\u001b[0m\n\u001b[0;32m    363\u001b[0m \u001b[1;33m\u001b[0m\u001b[0m\n\u001b[0;32m    364\u001b[0m         \u001b[1;32mif\u001b[0m \u001b[0mn_features\u001b[0m \u001b[1;33m!=\u001b[0m \u001b[0mself\u001b[0m\u001b[1;33m.\u001b[0m\u001b[0mn_features_in_\u001b[0m\u001b[1;33m:\u001b[0m\u001b[1;33m\u001b[0m\u001b[1;33m\u001b[0m\u001b[0m\n\u001b[1;32m--> 365\u001b[1;33m             raise ValueError(\n\u001b[0m\u001b[0;32m    366\u001b[0m                 \u001b[1;34mf\"X has {n_features} features, but {self.__class__.__name__} \"\u001b[0m\u001b[1;33m\u001b[0m\u001b[1;33m\u001b[0m\u001b[0m\n\u001b[0;32m    367\u001b[0m                 f\"is expecting {self.n_features_in_} features as input.\")\n",
            "\u001b[1;31mValueError\u001b[0m: X has 590 features, but StandardScaler is expecting 450 features as input."
          ]
        }
      ],
      "source": [
        "# STANDARIZE FEATURES FOR TRAIN AND TEST SET\n",
        "from sklearn.preprocessing import StandardScaler\n",
        "sc = StandardScaler()\n",
        "x_train_std = sc.fit_transform(x_train_Hot_deck1)\n",
        "x_test_std = sc.transform(x_test_Hot_deck1)\n",
        "\n",
        "\n",
        " \n",
        "cov_mat = np.cov(x_train_std.T)\n",
        "eigen_vals, eigen_vecs = np.linalg.eig(cov_mat)\n",
        "\n",
        "\n",
        " \n",
        "# calculate cumulative sum of explained variances\n",
        "tot = sum(eigen_vals)\n",
        "var_exp = [(i / tot) for i in sorted(eigen_vals, reverse=True)]\n",
        "cum_var_exp = np.cumsum(var_exp)\n",
        " \n",
        "# plot explained variances\n",
        "#THE COMPONENTS THAT HAVE MORE THAN 60% WILL BE SELECTED(THRESHOLD)\n",
        "#https://towardsdatascience.com/principal-component-analysis-for-dimensionality-reduction-115a3d157bad\n",
        " \n",
        "plt.rcParams[\"figure.figsize\"] = (32,20)\n",
        "plt.xlim(0, 200)\n",
        "plt.ylim(0, 0.06)\n",
        "plt.bar(range(1,591), var_exp, alpha=0.5,\n",
        " align='center', label='individual explained variance')\n",
        "plt.step(range(1,591), cum_var_exp, where='mid',\n",
        " label='cumulative explained variance')\n",
        "plt.ylabel('Explained variance ratio')\n",
        "plt.xlabel('Principal component index')\n",
        "plt.legend(loc='best')\n",
        " \n",
        "plt.show()\n",
        " \n",
        "#explained variance ratios of the different principal components\n",
        "pca = PCA(n_components = None)\n",
        "pca.fit(x_train_std)\n",
        "print(pca.explained_variance_ratio_)\n",
        "\n",
        "\n",
        " \n",
        "# Applying the Dimensionality reduction\n",
        " \n",
        "#Modelling with Top 30 attributes or components\n",
        "pca = PCA(n_components = 30)\n",
        "pca.fit(x_train_std)\n",
        "print(pca.explained_variance_ratio_)"
      ]
    },
    {
      "cell_type": "markdown",
      "id": "09c227af-f194-45a5-bca9-7d2118af8961",
      "metadata": {
        "id": "09c227af-f194-45a5-bca9-7d2118af8961"
      },
      "source": [
        "## Evaluation Check"
      ]
    },
    {
      "cell_type": "code",
      "execution_count": null,
      "id": "bc4a235e-eab6-4530-ae4d-72be0aa546de",
      "metadata": {
        "id": "bc4a235e-eab6-4530-ae4d-72be0aa546de"
      },
      "outputs": [],
      "source": [
        "import warnings\n",
        "warnings.filterwarnings(\"ignore\")\n",
        "from sklearn.tree import DecisionTreeClassifier\n",
        "from sklearn.ensemble import RandomForestClassifier\n",
        "from sklearn.naive_bayes import GaussianNB\n",
        "from sklearn.neighbors import KNeighborsClassifier\n",
        "from sklearn.svm import SVC\n",
        "from sklearn.linear_model import LogisticRegression\n",
        "from sklearn import metrics\n",
        "from sklearn.metrics import confusion_matrix\n",
        "from sklearn.metrics import accuracy_score\n",
        "from sklearn.metrics import classification_report\n",
        "#from sklearn.metrics import scorer\n",
        "from sklearn.metrics import roc_auc_score\n",
        "from sklearn.metrics import roc_curve\n",
        "from sklearn.model_selection import GridSearchCV \n",
        "from sklearn.model_selection import RandomizedSearchCV\n",
        "\n",
        "classifiers = [['Naive Bayes :', GaussianNB()],\n",
        "               ['KNeighbours :', KNeighborsClassifier()],\n",
        "               ['SVM :', SVC()],\n",
        "               ['LogisticRegression :', LogisticRegression()],\n",
        "               ['DecisionTree :',DecisionTreeClassifier()],\n",
        "               ['RandomForest :',RandomForestClassifier()]]\n",
        "\n",
        "for name,classifier in classifiers:\n",
        "    clf=classifier.fit(x_train_std,y_train)\n",
        "    y_pred=classifier.predict(x_test_std)\n",
        "    print(f'\\n {name} \\n')\n",
        "    print(f'Training Score for {name}  {clf.score(x_train_std,y_train) * 100:.2f}' )\n",
        "    print(f'Testing Score for {name} {clf.score(x_train_std,y_test) * 100:.2f}' )\n",
        "    print(f'Classification report  \\n {classification_report(y_test,y_pred)}' )\n",
        "    print(f'Confusion matrix  \\n {confusion_matrix(y_test,y_pred)}' )\n",
        "    print(f'ROC AUC  : {roc_auc_score(y_test,y_pred)}' )"
      ]
    },
    {
      "cell_type": "code",
      "execution_count": null,
      "id": "787634d7-5ca6-4c26-86e8-658197ad7e79",
      "metadata": {
        "id": "787634d7-5ca6-4c26-86e8-658197ad7e79"
      },
      "outputs": [],
      "source": [
        ""
      ]
    }
  ],
  "metadata": {
    "kernelspec": {
      "display_name": "Python 3 (ipykernel)",
      "language": "python",
      "name": "python3"
    },
    "language_info": {
      "codemirror_mode": {
        "name": "ipython",
        "version": 3
      },
      "file_extension": ".py",
      "mimetype": "text/x-python",
      "name": "python",
      "nbconvert_exporter": "python",
      "pygments_lexer": "ipython3",
      "version": "3.9.7"
    },
    "colab": {
      "name": "PCA Hotdeck MI.ipynb",
      "provenance": []
    }
  },
  "nbformat": 4,
  "nbformat_minor": 5
}